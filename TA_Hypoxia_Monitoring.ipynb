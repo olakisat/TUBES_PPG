{
  "nbformat": 4,
  "nbformat_minor": 0,
  "metadata": {
    "colab": {
      "name": "TA_Hypoxia Monitoring.ipynb",
      "provenance": [],
      "collapsed_sections": [
        "2POmSMmKwpXP",
        "f4bkSGb-wx_B",
        "YhvVSQ5o_sEo"
      ]
    },
    "kernelspec": {
      "display_name": "Python 3",
      "language": "python",
      "name": "python3"
    },
    "language_info": {
      "codemirror_mode": {
        "name": "ipython",
        "version": 3
      },
      "file_extension": ".py",
      "mimetype": "text/x-python",
      "name": "python",
      "nbconvert_exporter": "python",
      "pygments_lexer": "ipython3",
      "version": "3.6.5"
    }
  },
  "cells": [
    {
      "cell_type": "markdown",
      "metadata": {
        "id": "2POmSMmKwpXP"
      },
      "source": [
        "# GOOGLE DRIVE GRANT"
      ]
    },
    {
      "cell_type": "code",
      "metadata": {
        "id": "oKuNS3PGkAtp",
        "colab": {
          "base_uri": "https://localhost:8080/"
        },
        "outputId": "93c61197-8cac-4635-cf9e-6368d889a4b7"
      },
      "source": [
        "from google.colab import drive\n",
        "drive.mount('/content/drive')"
      ],
      "execution_count": 1,
      "outputs": [
        {
          "output_type": "stream",
          "text": [
            "Mounted at /content/drive\n"
          ],
          "name": "stdout"
        }
      ]
    },
    {
      "cell_type": "code",
      "metadata": {
        "colab": {
          "base_uri": "https://localhost:8080/"
        },
        "id": "mQrjg9v1qxJu",
        "outputId": "1a8f7a17-6c65-4ff7-cc12-5ce6cf559f90"
      },
      "source": [
        "ls \"/content/drive/MyDrive/DATABASE\""
      ],
      "execution_count": 3,
      "outputs": [
        {
          "output_type": "stream",
          "text": [
            " 211.csv   \u001b[0m\u001b[01;34mfitur\u001b[0m/  'PPG-BP dataset.xlsx'   \u001b[01;34mraw_data\u001b[0m/\n",
            " \u001b[01;34mClean\u001b[0m/    \u001b[01;34mmodel\u001b[0m/   \u001b[01;34mpredictfitur\u001b[0m/\n"
          ],
          "name": "stdout"
        }
      ]
    },
    {
      "cell_type": "markdown",
      "metadata": {
        "id": "PsmXmA63R7Vu"
      },
      "source": [
        "# PPG "
      ]
    },
    {
      "cell_type": "markdown",
      "metadata": {
        "id": "f4bkSGb-wx_B"
      },
      "source": [
        "## PPG MODELING \n"
      ]
    },
    {
      "cell_type": "markdown",
      "metadata": {
        "id": "fr9UZpHqyIXJ"
      },
      "source": [
        "Feature Extraction"
      ]
    },
    {
      "cell_type": "code",
      "metadata": {
        "id": "N_XWoR9xl88X"
      },
      "source": [
        "import cv2\n",
        "import numpy as np\n",
        "from scipy import signal\n",
        "import os\n",
        "import shutil\n",
        "\"\"\"\n",
        "# This Function Works as follows:\n",
        "1. Takes input as the path of the finger video \n",
        "2. Returns the resting heartrate in bpm as a number \n",
        "\n",
        "\n",
        "- It first gets frames from video at rate 20 frames per second\n",
        "- Extract channels from the images \n",
        "- then it computes the average of the red channels and saves them in pixels_averages\n",
        "- Then do a HPF to the average\n",
        "- Truncate wonky data from  beginning of series\n",
        "- Take FFT to the filtered data and the compute the heartrate in bpm.\n",
        "\"\"\"\n",
        "overall_results = []\n",
        "\n",
        "def HeartRateFinger(Video_Path):\n",
        "    os.makedirs(\"frames\")  #make a directory called frames to save the images in\n",
        "    vidcap = cv2.VideoCapture(Video_Path)  #the directory path to the video of interest\n",
        "    images = []\n",
        "\n",
        "    #take in images and get indidvual frames\n",
        "    def getFrame(sec):\n",
        "        vidcap.set(cv2.CAP_PROP_POS_MSEC, sec * 1000)  #VideoCaptureProperties to capture \n",
        "        hasFrames, image = vidcap.read()\n",
        "        if hasFrames:\n",
        "            cv2.imwrite(\"frames/image\" + str(count) + \".jpg\", image)  # save frame as JPG file\n",
        "        images.append(\"frames/image\" + str(count) + \".jpg\")\n",
        "        return hasFrames\n",
        "\n",
        "    #set up frame rate\n",
        "    sec = 0\n",
        "    frameRate = 0.05  #capture frame each 0.05 seconds --> (1 second) / .05 = 20 seconds 20 fps\n",
        "    count = 1\n",
        "    success = getFrame(sec)  #success tracker\n",
        "    while (success):\n",
        "        count = count + 1\n",
        "        sec = sec + frameRate\n",
        "        sec = round(sec, 2)\n",
        "        success = getFrame(sec)\n",
        "\n",
        "    #Get the channels from images and Find the average of RED channel for each frame\n",
        "    pixels_averages = []\n",
        "    for i in range(len(images) - 1):\n",
        "        bgr_image = cv2.imread(images[i])\n",
        "        blue_channel, green_channel, red_channel = cv2.split(bgr_image)  #splits into the 3 color channels (RGB)\n",
        "        average = np.mean(red_channel)  #mean of all the red channels  is the sum all pixels in channel and divide by number of pixels\n",
        "        pixels_averages.append(average)  #add this average to all the other frames array\n",
        "    pixels_averages = np.divide(np.array(pixels_averages), 255)  #normalize our averages between 0-1\n",
        "\n",
        "    #Clean and filter data (butterworth filter)\n",
        "    sos = signal.butter(4, 1, 'hp', fs=20, output='sos')  # setting up signal.butter(kind of frequency,framerate, name of method)\n",
        "    filtered = signal.sosfilt(sos, pixels_averages) #Applying filter\n",
        "\n",
        "    # truncate wonky data from  beginning of series\n",
        "    filtered = filtered[40:]\n",
        "\n",
        "    #Perform FFT to find frequency of max amplitude\n",
        "    Sample_rate = 20  #same as the frame rate is the sampling rate\n",
        "    BW = Sample_rate / 2  #bandwidth (range of frequency) in signal processing\n",
        "    fft = np.absolute(np.fft.fft(filtered))\n",
        "    frames_len = len(filtered)\n",
        "    frequancies = np.arange(0, BW, Sample_rate / frames_len)\n",
        "    fft = fft[0:len(frequancies)]\n",
        "\n",
        "    #Convert back to BPM from hz\n",
        "    heartrate = np.round(frequancies[np.argmax(fft)] * 60)  #take the highest peak frequency and multiply by 60 and round it\n",
        "    shutil.rmtree(\"frames\")  #remove folder made to keep the directory clean\n",
        "    overall_results.append(heartrate)\n",
        "    return heartrate\n",
        "\n"
      ],
      "execution_count": 188,
      "outputs": []
    },
    {
      "cell_type": "code",
      "metadata": {
        "colab": {
          "base_uri": "https://localhost:8080/",
          "height": 377
        },
        "id": "saNBuC32l88Z",
        "outputId": "809b501e-75f8-40cd-c01d-da8d64a64a16"
      },
      "source": [
        "#script expected outcome while Resting is 74-78 BPM\n",
        "path = \"95.MOV\"\n",
        "my_heart_rate = HeartRateFinger(path)\n",
        "print(\"Your Heart rate is : {} bpm\".format(my_heart_rate))"
      ],
      "execution_count": 189,
      "outputs": [
        {
          "output_type": "error",
          "ename": "ValueError",
          "evalue": "ignored",
          "traceback": [
            "\u001b[0;31m---------------------------------------------------------------------------\u001b[0m",
            "\u001b[0;31mValueError\u001b[0m                                Traceback (most recent call last)",
            "\u001b[0;32m<ipython-input-189-ae0d688c100f>\u001b[0m in \u001b[0;36m<module>\u001b[0;34m()\u001b[0m\n\u001b[1;32m      1\u001b[0m \u001b[0;31m#script expected outcome while Resting is 74-78 BPM\u001b[0m\u001b[0;34m\u001b[0m\u001b[0;34m\u001b[0m\u001b[0;34m\u001b[0m\u001b[0m\n\u001b[1;32m      2\u001b[0m \u001b[0mpath\u001b[0m \u001b[0;34m=\u001b[0m \u001b[0;34m\"95.MOV\"\u001b[0m\u001b[0;34m\u001b[0m\u001b[0;34m\u001b[0m\u001b[0m\n\u001b[0;32m----> 3\u001b[0;31m \u001b[0mmy_heart_rate\u001b[0m \u001b[0;34m=\u001b[0m \u001b[0mHeartRateFinger\u001b[0m\u001b[0;34m(\u001b[0m\u001b[0mpath\u001b[0m\u001b[0;34m)\u001b[0m\u001b[0;34m\u001b[0m\u001b[0;34m\u001b[0m\u001b[0m\n\u001b[0m\u001b[1;32m      4\u001b[0m \u001b[0mprint\u001b[0m\u001b[0;34m(\u001b[0m\u001b[0;34m\"Your Heart rate is : {} bpm\"\u001b[0m\u001b[0;34m.\u001b[0m\u001b[0mformat\u001b[0m\u001b[0;34m(\u001b[0m\u001b[0mmy_heart_rate\u001b[0m\u001b[0;34m)\u001b[0m\u001b[0;34m)\u001b[0m\u001b[0;34m\u001b[0m\u001b[0;34m\u001b[0m\u001b[0m\n",
            "\u001b[0;32m<ipython-input-188-e0957ec82e80>\u001b[0m in \u001b[0;36mHeartRateFinger\u001b[0;34m(Video_Path)\u001b[0m\n\u001b[1;32m     55\u001b[0m     \u001b[0;31m#Clean and filter data (butterworth filter)\u001b[0m\u001b[0;34m\u001b[0m\u001b[0;34m\u001b[0m\u001b[0;34m\u001b[0m\u001b[0m\n\u001b[1;32m     56\u001b[0m     \u001b[0msos\u001b[0m \u001b[0;34m=\u001b[0m \u001b[0msignal\u001b[0m\u001b[0;34m.\u001b[0m\u001b[0mbutter\u001b[0m\u001b[0;34m(\u001b[0m\u001b[0;36m4\u001b[0m\u001b[0;34m,\u001b[0m \u001b[0;36m1\u001b[0m\u001b[0;34m,\u001b[0m \u001b[0;34m'hp'\u001b[0m\u001b[0;34m,\u001b[0m \u001b[0mfs\u001b[0m\u001b[0;34m=\u001b[0m\u001b[0;36m20\u001b[0m\u001b[0;34m,\u001b[0m \u001b[0moutput\u001b[0m\u001b[0;34m=\u001b[0m\u001b[0;34m'sos'\u001b[0m\u001b[0;34m)\u001b[0m  \u001b[0;31m# setting up signal.butter(kind of frequency,framerate, name of method)\u001b[0m\u001b[0;34m\u001b[0m\u001b[0;34m\u001b[0m\u001b[0m\n\u001b[0;32m---> 57\u001b[0;31m     \u001b[0mfiltered\u001b[0m \u001b[0;34m=\u001b[0m \u001b[0msignal\u001b[0m\u001b[0;34m.\u001b[0m\u001b[0msosfilt\u001b[0m\u001b[0;34m(\u001b[0m\u001b[0msos\u001b[0m\u001b[0;34m,\u001b[0m \u001b[0mpixels_averages\u001b[0m\u001b[0;34m)\u001b[0m \u001b[0;31m#Applying filter\u001b[0m\u001b[0;34m\u001b[0m\u001b[0;34m\u001b[0m\u001b[0m\n\u001b[0m\u001b[1;32m     58\u001b[0m \u001b[0;34m\u001b[0m\u001b[0m\n\u001b[1;32m     59\u001b[0m     \u001b[0;31m# truncate wonky data from  beginning of series\u001b[0m\u001b[0;34m\u001b[0m\u001b[0;34m\u001b[0m\u001b[0;34m\u001b[0m\u001b[0m\n",
            "\u001b[0;32m/usr/local/lib/python3.7/dist-packages/scipy/signal/signaltools.py\u001b[0m in \u001b[0;36msosfilt\u001b[0;34m(sos, x, axis, zi)\u001b[0m\n\u001b[1;32m   4024\u001b[0m     \u001b[0mzi\u001b[0m \u001b[0;34m=\u001b[0m \u001b[0mnp\u001b[0m\u001b[0;34m.\u001b[0m\u001b[0mmoveaxis\u001b[0m\u001b[0;34m(\u001b[0m\u001b[0mzi\u001b[0m\u001b[0;34m,\u001b[0m \u001b[0;34m[\u001b[0m\u001b[0;36m0\u001b[0m\u001b[0;34m,\u001b[0m \u001b[0maxis\u001b[0m \u001b[0;34m+\u001b[0m \u001b[0;36m1\u001b[0m\u001b[0;34m]\u001b[0m\u001b[0;34m,\u001b[0m \u001b[0;34m[\u001b[0m\u001b[0;34m-\u001b[0m\u001b[0;36m2\u001b[0m\u001b[0;34m,\u001b[0m \u001b[0;34m-\u001b[0m\u001b[0;36m1\u001b[0m\u001b[0;34m]\u001b[0m\u001b[0;34m)\u001b[0m\u001b[0;34m\u001b[0m\u001b[0;34m\u001b[0m\u001b[0m\n\u001b[1;32m   4025\u001b[0m     \u001b[0mx_shape\u001b[0m\u001b[0;34m,\u001b[0m \u001b[0mzi_shape\u001b[0m \u001b[0;34m=\u001b[0m \u001b[0mx\u001b[0m\u001b[0;34m.\u001b[0m\u001b[0mshape\u001b[0m\u001b[0;34m,\u001b[0m \u001b[0mzi\u001b[0m\u001b[0;34m.\u001b[0m\u001b[0mshape\u001b[0m\u001b[0;34m\u001b[0m\u001b[0;34m\u001b[0m\u001b[0m\n\u001b[0;32m-> 4026\u001b[0;31m     \u001b[0mx\u001b[0m \u001b[0;34m=\u001b[0m \u001b[0mnp\u001b[0m\u001b[0;34m.\u001b[0m\u001b[0mreshape\u001b[0m\u001b[0;34m(\u001b[0m\u001b[0mx\u001b[0m\u001b[0;34m,\u001b[0m \u001b[0;34m(\u001b[0m\u001b[0;34m-\u001b[0m\u001b[0;36m1\u001b[0m\u001b[0;34m,\u001b[0m \u001b[0mx\u001b[0m\u001b[0;34m.\u001b[0m\u001b[0mshape\u001b[0m\u001b[0;34m[\u001b[0m\u001b[0;34m-\u001b[0m\u001b[0;36m1\u001b[0m\u001b[0;34m]\u001b[0m\u001b[0;34m)\u001b[0m\u001b[0;34m)\u001b[0m\u001b[0;34m\u001b[0m\u001b[0;34m\u001b[0m\u001b[0m\n\u001b[0m\u001b[1;32m   4027\u001b[0m     \u001b[0mx\u001b[0m \u001b[0;34m=\u001b[0m \u001b[0mnp\u001b[0m\u001b[0;34m.\u001b[0m\u001b[0marray\u001b[0m\u001b[0;34m(\u001b[0m\u001b[0mx\u001b[0m\u001b[0;34m,\u001b[0m \u001b[0mdtype\u001b[0m\u001b[0;34m,\u001b[0m \u001b[0morder\u001b[0m\u001b[0;34m=\u001b[0m\u001b[0;34m'C'\u001b[0m\u001b[0;34m)\u001b[0m  \u001b[0;31m# make a copy, can modify in place\u001b[0m\u001b[0;34m\u001b[0m\u001b[0;34m\u001b[0m\u001b[0m\n\u001b[1;32m   4028\u001b[0m     \u001b[0mzi\u001b[0m \u001b[0;34m=\u001b[0m \u001b[0mnp\u001b[0m\u001b[0;34m.\u001b[0m\u001b[0mascontiguousarray\u001b[0m\u001b[0;34m(\u001b[0m\u001b[0mnp\u001b[0m\u001b[0;34m.\u001b[0m\u001b[0mreshape\u001b[0m\u001b[0;34m(\u001b[0m\u001b[0mzi\u001b[0m\u001b[0;34m,\u001b[0m \u001b[0;34m(\u001b[0m\u001b[0;34m-\u001b[0m\u001b[0;36m1\u001b[0m\u001b[0;34m,\u001b[0m \u001b[0mn_sections\u001b[0m\u001b[0;34m,\u001b[0m \u001b[0;36m2\u001b[0m\u001b[0;34m)\u001b[0m\u001b[0;34m)\u001b[0m\u001b[0;34m)\u001b[0m\u001b[0;34m\u001b[0m\u001b[0;34m\u001b[0m\u001b[0m\n",
            "\u001b[0;32m<__array_function__ internals>\u001b[0m in \u001b[0;36mreshape\u001b[0;34m(*args, **kwargs)\u001b[0m\n",
            "\u001b[0;32m/usr/local/lib/python3.7/dist-packages/numpy/core/fromnumeric.py\u001b[0m in \u001b[0;36mreshape\u001b[0;34m(a, newshape, order)\u001b[0m\n\u001b[1;32m    297\u001b[0m            [5, 6]])\n\u001b[1;32m    298\u001b[0m     \"\"\"\n\u001b[0;32m--> 299\u001b[0;31m     \u001b[0;32mreturn\u001b[0m \u001b[0m_wrapfunc\u001b[0m\u001b[0;34m(\u001b[0m\u001b[0ma\u001b[0m\u001b[0;34m,\u001b[0m \u001b[0;34m'reshape'\u001b[0m\u001b[0;34m,\u001b[0m \u001b[0mnewshape\u001b[0m\u001b[0;34m,\u001b[0m \u001b[0morder\u001b[0m\u001b[0;34m=\u001b[0m\u001b[0morder\u001b[0m\u001b[0;34m)\u001b[0m\u001b[0;34m\u001b[0m\u001b[0;34m\u001b[0m\u001b[0m\n\u001b[0m\u001b[1;32m    300\u001b[0m \u001b[0;34m\u001b[0m\u001b[0m\n\u001b[1;32m    301\u001b[0m \u001b[0;34m\u001b[0m\u001b[0m\n",
            "\u001b[0;32m/usr/local/lib/python3.7/dist-packages/numpy/core/fromnumeric.py\u001b[0m in \u001b[0;36m_wrapfunc\u001b[0;34m(obj, method, *args, **kwds)\u001b[0m\n\u001b[1;32m     56\u001b[0m \u001b[0;34m\u001b[0m\u001b[0m\n\u001b[1;32m     57\u001b[0m     \u001b[0;32mtry\u001b[0m\u001b[0;34m:\u001b[0m\u001b[0;34m\u001b[0m\u001b[0;34m\u001b[0m\u001b[0m\n\u001b[0;32m---> 58\u001b[0;31m         \u001b[0;32mreturn\u001b[0m \u001b[0mbound\u001b[0m\u001b[0;34m(\u001b[0m\u001b[0;34m*\u001b[0m\u001b[0margs\u001b[0m\u001b[0;34m,\u001b[0m \u001b[0;34m**\u001b[0m\u001b[0mkwds\u001b[0m\u001b[0;34m)\u001b[0m\u001b[0;34m\u001b[0m\u001b[0;34m\u001b[0m\u001b[0m\n\u001b[0m\u001b[1;32m     59\u001b[0m     \u001b[0;32mexcept\u001b[0m \u001b[0mTypeError\u001b[0m\u001b[0;34m:\u001b[0m\u001b[0;34m\u001b[0m\u001b[0;34m\u001b[0m\u001b[0m\n\u001b[1;32m     60\u001b[0m         \u001b[0;31m# A TypeError occurs if the object does have such a method in its\u001b[0m\u001b[0;34m\u001b[0m\u001b[0;34m\u001b[0m\u001b[0;34m\u001b[0m\u001b[0m\n",
            "\u001b[0;31mValueError\u001b[0m: cannot reshape array of size 0 into shape (0)"
          ]
        }
      ]
    },
    {
      "cell_type": "code",
      "metadata": {
        "id": "nbM0ohdGl88Z"
      },
      "source": [
        "#script expected outcome while Resting is 69-77 BPM\n",
        "path = \"resting1.mp4\"\n",
        "my_heart_rate = HeartRateFinger(path)\n",
        "print(\"Your Heart rate is : {} bpm\".format(my_heart_rate))"
      ],
      "execution_count": null,
      "outputs": []
    },
    {
      "cell_type": "code",
      "metadata": {
        "id": "aYVR4sPNl88a"
      },
      "source": [
        "#script expected outcome while Resting is 69-77 BPM\n",
        "path = \"RESTING2.mp4\"\n",
        "my_heart_rate = HeartRateFinger(path)\n",
        "print(\"Your Heart rate is : {} bpm\".format(my_heart_rate))"
      ],
      "execution_count": null,
      "outputs": []
    },
    {
      "cell_type": "code",
      "metadata": {
        "id": "CVJRXYPhl88a"
      },
      "source": [
        "#script expected outcome after activity was 83-88 BPM (50 jumping jacks)\n",
        "path = \"active1.mp4\"\n",
        "my_heart_rate = HeartRateFinger(path)\n",
        "print(\"Your Heart rate is : {} bpm\".format(my_heart_rate))"
      ],
      "execution_count": null,
      "outputs": []
    },
    {
      "cell_type": "code",
      "metadata": {
        "id": "X6CzpTOsl88a"
      },
      "source": [
        "#script expected outcome after activity was 75-85 BPM (jogging for a bit)\n",
        "path =  \"active2.mp4\"\n",
        "my_heart_rate = HeartRateFinger(path)\n",
        "print(\"Your Heart rate is : {} bpm\".format(my_heart_rate))"
      ],
      "execution_count": null,
      "outputs": []
    },
    {
      "cell_type": "code",
      "metadata": {
        "id": "S5vWNzahl88b"
      },
      "source": [
        "#Overall results laid out with their error rate as well\n",
        "print(overall_results)\n"
      ],
      "execution_count": null,
      "outputs": []
    },
    {
      "cell_type": "markdown",
      "metadata": {
        "id": "SEAOdDCWchAy"
      },
      "source": [
        "## PPG CLASSIFICATION\n",
        "\n",
        "1.   Cleaning Data\n",
        "2.   Feature Extraction\n",
        "\n",
        "\n",
        "\n"
      ]
    },
    {
      "cell_type": "markdown",
      "metadata": {
        "id": "fNpPZZA66yJE"
      },
      "source": [
        "## 1.Cleaning"
      ]
    },
    {
      "cell_type": "code",
      "metadata": {
        "id": "NTV3GAc06p5r",
        "colab": {
          "base_uri": "https://localhost:8080/",
          "height": 35
        },
        "outputId": "c4d6b608-ce71-4740-c908-c7d1e17ff0da"
      },
      "source": [
        "\"\"\"AF\"\"\""
      ],
      "execution_count": 144,
      "outputs": [
        {
          "output_type": "execute_result",
          "data": {
            "application/vnd.google.colaboratory.intrinsic+json": {
              "type": "string"
            },
            "text/plain": [
              "'AF'"
            ]
          },
          "metadata": {
            "tags": []
          },
          "execution_count": 144
        }
      ]
    },
    {
      "cell_type": "code",
      "metadata": {
        "id": "hDW10MEk6p5s",
        "colab": {
          "base_uri": "https://localhost:8080/",
          "height": 391
        },
        "outputId": "95126b61-3436-4d84-8e01-918d2f753357"
      },
      "source": [
        "#\n",
        "import pandas as pd\n",
        "import numpy as np\n",
        "dfn1 = pd.read_csv('/content/drive/MyDrive/DATABASE/raw_data/AF2.csv')\n",
        "dfn1"
      ],
      "execution_count": 145,
      "outputs": [
        {
          "output_type": "execute_result",
          "data": {
            "text/html": [
              "<div>\n",
              "<style scoped>\n",
              "    .dataframe tbody tr th:only-of-type {\n",
              "        vertical-align: middle;\n",
              "    }\n",
              "\n",
              "    .dataframe tbody tr th {\n",
              "        vertical-align: top;\n",
              "    }\n",
              "\n",
              "    .dataframe thead th {\n",
              "        text-align: right;\n",
              "    }\n",
              "</style>\n",
              "<table border=\"1\" class=\"dataframe\">\n",
              "  <thead>\n",
              "    <tr style=\"text-align: right;\">\n",
              "      <th></th>\n",
              "      <th>Time</th>\n",
              "      <th>II</th>\n",
              "      <th>PLETH</th>\n",
              "    </tr>\n",
              "  </thead>\n",
              "  <tbody>\n",
              "    <tr>\n",
              "      <th>0</th>\n",
              "      <td>11:20:01.367</td>\n",
              "      <td>8.46</td>\n",
              "      <td>-168.00</td>\n",
              "    </tr>\n",
              "    <tr>\n",
              "      <th>1</th>\n",
              "      <td>11:20:01.367</td>\n",
              "      <td>8.46</td>\n",
              "      <td>7.76</td>\n",
              "    </tr>\n",
              "    <tr>\n",
              "      <th>2</th>\n",
              "      <td>11:20:01.367</td>\n",
              "      <td>-14.32</td>\n",
              "      <td>-76.00</td>\n",
              "    </tr>\n",
              "    <tr>\n",
              "      <th>3</th>\n",
              "      <td>11:20:01.367</td>\n",
              "      <td>-8.96</td>\n",
              "      <td>-75.00</td>\n",
              "    </tr>\n",
              "    <tr>\n",
              "      <th>4</th>\n",
              "      <td>11:20:01.367</td>\n",
              "      <td>-8.01</td>\n",
              "      <td>-74.00</td>\n",
              "    </tr>\n",
              "    <tr>\n",
              "      <th>...</th>\n",
              "      <td>...</td>\n",
              "      <td>...</td>\n",
              "      <td>...</td>\n",
              "    </tr>\n",
              "    <tr>\n",
              "      <th>18150</th>\n",
              "      <td>11:26:03.625</td>\n",
              "      <td>-119.37</td>\n",
              "      <td>-152.00</td>\n",
              "    </tr>\n",
              "    <tr>\n",
              "      <th>18151</th>\n",
              "      <td>11:26:03.667</td>\n",
              "      <td>-64.40</td>\n",
              "      <td>-142.00</td>\n",
              "    </tr>\n",
              "    <tr>\n",
              "      <th>18152</th>\n",
              "      <td>11:26:03.667</td>\n",
              "      <td>18.58</td>\n",
              "      <td>-136.00</td>\n",
              "    </tr>\n",
              "    <tr>\n",
              "      <th>18153</th>\n",
              "      <td>11:26:03.716</td>\n",
              "      <td>18.06</td>\n",
              "      <td>-129.00</td>\n",
              "    </tr>\n",
              "    <tr>\n",
              "      <th>18154</th>\n",
              "      <td>11:26:03.716</td>\n",
              "      <td>21.93</td>\n",
              "      <td>-123.00</td>\n",
              "    </tr>\n",
              "  </tbody>\n",
              "</table>\n",
              "<p>18155 rows × 3 columns</p>\n",
              "</div>"
            ],
            "text/plain": [
              "               Time      II   PLETH\n",
              "0      11:20:01.367    8.46 -168.00\n",
              "1      11:20:01.367    8.46    7.76\n",
              "2      11:20:01.367  -14.32  -76.00\n",
              "3      11:20:01.367   -8.96  -75.00\n",
              "4      11:20:01.367   -8.01  -74.00\n",
              "...             ...     ...     ...\n",
              "18150  11:26:03.625 -119.37 -152.00\n",
              "18151  11:26:03.667  -64.40 -142.00\n",
              "18152  11:26:03.667   18.58 -136.00\n",
              "18153  11:26:03.716   18.06 -129.00\n",
              "18154  11:26:03.716   21.93 -123.00\n",
              "\n",
              "[18155 rows x 3 columns]"
            ]
          },
          "metadata": {
            "tags": []
          },
          "execution_count": 145
        }
      ]
    },
    {
      "cell_type": "code",
      "metadata": {
        "id": "cube26e-6p5s",
        "colab": {
          "base_uri": "https://localhost:8080/"
        },
        "outputId": "e880ff4e-96df-4124-febd-91bf35f388e4"
      },
      "source": [
        "#check type data\n",
        "print(type(dfn1['II'][0]))\n",
        "print(type(dfn1['PLETH'][0]))"
      ],
      "execution_count": 146,
      "outputs": [
        {
          "output_type": "stream",
          "text": [
            "<class 'numpy.float64'>\n",
            "<class 'numpy.float64'>\n"
          ],
          "name": "stdout"
        }
      ]
    },
    {
      "cell_type": "code",
      "metadata": {
        "id": "qF53YVbi6p5t",
        "colab": {
          "base_uri": "https://localhost:8080/",
          "height": 391
        },
        "outputId": "b8a36c68-604b-46d1-ae2b-c6d42329f04e"
      },
      "source": [
        "#memotong data \n",
        "dfn1 = dfn1.loc[200:]\n",
        "dfn1"
      ],
      "execution_count": 147,
      "outputs": [
        {
          "output_type": "execute_result",
          "data": {
            "text/html": [
              "<div>\n",
              "<style scoped>\n",
              "    .dataframe tbody tr th:only-of-type {\n",
              "        vertical-align: middle;\n",
              "    }\n",
              "\n",
              "    .dataframe tbody tr th {\n",
              "        vertical-align: top;\n",
              "    }\n",
              "\n",
              "    .dataframe thead th {\n",
              "        text-align: right;\n",
              "    }\n",
              "</style>\n",
              "<table border=\"1\" class=\"dataframe\">\n",
              "  <thead>\n",
              "    <tr style=\"text-align: right;\">\n",
              "      <th></th>\n",
              "      <th>Time</th>\n",
              "      <th>II</th>\n",
              "      <th>PLETH</th>\n",
              "    </tr>\n",
              "  </thead>\n",
              "  <tbody>\n",
              "    <tr>\n",
              "      <th>200</th>\n",
              "      <td>11:20:05.085</td>\n",
              "      <td>4.44</td>\n",
              "      <td>-134.0</td>\n",
              "    </tr>\n",
              "    <tr>\n",
              "      <th>201</th>\n",
              "      <td>11:20:05.085</td>\n",
              "      <td>3.94</td>\n",
              "      <td>-125.0</td>\n",
              "    </tr>\n",
              "    <tr>\n",
              "      <th>202</th>\n",
              "      <td>11:20:05.134</td>\n",
              "      <td>2.54</td>\n",
              "      <td>-120.0</td>\n",
              "    </tr>\n",
              "    <tr>\n",
              "      <th>203</th>\n",
              "      <td>11:20:05.134</td>\n",
              "      <td>0.60</td>\n",
              "      <td>-112.0</td>\n",
              "    </tr>\n",
              "    <tr>\n",
              "      <th>204</th>\n",
              "      <td>11:20:05.184</td>\n",
              "      <td>-1.25</td>\n",
              "      <td>-105.0</td>\n",
              "    </tr>\n",
              "    <tr>\n",
              "      <th>...</th>\n",
              "      <td>...</td>\n",
              "      <td>...</td>\n",
              "      <td>...</td>\n",
              "    </tr>\n",
              "    <tr>\n",
              "      <th>18150</th>\n",
              "      <td>11:26:03.625</td>\n",
              "      <td>-119.37</td>\n",
              "      <td>-152.0</td>\n",
              "    </tr>\n",
              "    <tr>\n",
              "      <th>18151</th>\n",
              "      <td>11:26:03.667</td>\n",
              "      <td>-64.40</td>\n",
              "      <td>-142.0</td>\n",
              "    </tr>\n",
              "    <tr>\n",
              "      <th>18152</th>\n",
              "      <td>11:26:03.667</td>\n",
              "      <td>18.58</td>\n",
              "      <td>-136.0</td>\n",
              "    </tr>\n",
              "    <tr>\n",
              "      <th>18153</th>\n",
              "      <td>11:26:03.716</td>\n",
              "      <td>18.06</td>\n",
              "      <td>-129.0</td>\n",
              "    </tr>\n",
              "    <tr>\n",
              "      <th>18154</th>\n",
              "      <td>11:26:03.716</td>\n",
              "      <td>21.93</td>\n",
              "      <td>-123.0</td>\n",
              "    </tr>\n",
              "  </tbody>\n",
              "</table>\n",
              "<p>17955 rows × 3 columns</p>\n",
              "</div>"
            ],
            "text/plain": [
              "               Time      II  PLETH\n",
              "200    11:20:05.085    4.44 -134.0\n",
              "201    11:20:05.085    3.94 -125.0\n",
              "202    11:20:05.134    2.54 -120.0\n",
              "203    11:20:05.134    0.60 -112.0\n",
              "204    11:20:05.184   -1.25 -105.0\n",
              "...             ...     ...    ...\n",
              "18150  11:26:03.625 -119.37 -152.0\n",
              "18151  11:26:03.667  -64.40 -142.0\n",
              "18152  11:26:03.667   18.58 -136.0\n",
              "18153  11:26:03.716   18.06 -129.0\n",
              "18154  11:26:03.716   21.93 -123.0\n",
              "\n",
              "[17955 rows x 3 columns]"
            ]
          },
          "metadata": {
            "tags": []
          },
          "execution_count": 147
        }
      ]
    },
    {
      "cell_type": "code",
      "metadata": {
        "id": "Q4nIuzjs6p5t",
        "colab": {
          "base_uri": "https://localhost:8080/",
          "height": 401
        },
        "outputId": "88f687cd-06a0-451e-bae0-5aeb9f437fc5"
      },
      "source": [
        "#pembersihan objek dr str yg tdk terpakai\n",
        "dfn1['II'].replace('', np.nan, inplace=True)\n",
        "dfn1.dropna(subset=['II'], inplace=True)\n",
        "dfn1['PLETH'].replace('', np.nan, inplace=True)\n",
        "dfn1.dropna(subset=['PLETH'], inplace=True)\n",
        "\n",
        "dfn1.head(1)"
      ],
      "execution_count": 148,
      "outputs": [
        {
          "output_type": "stream",
          "text": [
            "/usr/local/lib/python3.7/dist-packages/pandas/core/series.py:4582: SettingWithCopyWarning: \n",
            "A value is trying to be set on a copy of a slice from a DataFrame\n",
            "\n",
            "See the caveats in the documentation: https://pandas.pydata.org/pandas-docs/stable/user_guide/indexing.html#returning-a-view-versus-a-copy\n",
            "  method=method,\n",
            "/usr/local/lib/python3.7/dist-packages/ipykernel_launcher.py:3: SettingWithCopyWarning: \n",
            "A value is trying to be set on a copy of a slice from a DataFrame\n",
            "\n",
            "See the caveats in the documentation: https://pandas.pydata.org/pandas-docs/stable/user_guide/indexing.html#returning-a-view-versus-a-copy\n",
            "  This is separate from the ipykernel package so we can avoid doing imports until\n",
            "/usr/local/lib/python3.7/dist-packages/pandas/core/series.py:4582: SettingWithCopyWarning: \n",
            "A value is trying to be set on a copy of a slice from a DataFrame\n",
            "\n",
            "See the caveats in the documentation: https://pandas.pydata.org/pandas-docs/stable/user_guide/indexing.html#returning-a-view-versus-a-copy\n",
            "  method=method,\n",
            "/usr/local/lib/python3.7/dist-packages/ipykernel_launcher.py:5: SettingWithCopyWarning: \n",
            "A value is trying to be set on a copy of a slice from a DataFrame\n",
            "\n",
            "See the caveats in the documentation: https://pandas.pydata.org/pandas-docs/stable/user_guide/indexing.html#returning-a-view-versus-a-copy\n",
            "  \"\"\"\n"
          ],
          "name": "stderr"
        },
        {
          "output_type": "execute_result",
          "data": {
            "text/html": [
              "<div>\n",
              "<style scoped>\n",
              "    .dataframe tbody tr th:only-of-type {\n",
              "        vertical-align: middle;\n",
              "    }\n",
              "\n",
              "    .dataframe tbody tr th {\n",
              "        vertical-align: top;\n",
              "    }\n",
              "\n",
              "    .dataframe thead th {\n",
              "        text-align: right;\n",
              "    }\n",
              "</style>\n",
              "<table border=\"1\" class=\"dataframe\">\n",
              "  <thead>\n",
              "    <tr style=\"text-align: right;\">\n",
              "      <th></th>\n",
              "      <th>Time</th>\n",
              "      <th>II</th>\n",
              "      <th>PLETH</th>\n",
              "    </tr>\n",
              "  </thead>\n",
              "  <tbody>\n",
              "    <tr>\n",
              "      <th>200</th>\n",
              "      <td>11:20:05.085</td>\n",
              "      <td>4.44</td>\n",
              "      <td>-134.0</td>\n",
              "    </tr>\n",
              "  </tbody>\n",
              "</table>\n",
              "</div>"
            ],
            "text/plain": [
              "             Time    II  PLETH\n",
              "200  11:20:05.085  4.44 -134.0"
            ]
          },
          "metadata": {
            "tags": []
          },
          "execution_count": 148
        }
      ]
    },
    {
      "cell_type": "code",
      "metadata": {
        "id": "3NHGrSdO6p5u",
        "colab": {
          "base_uri": "https://localhost:8080/"
        },
        "outputId": "650803b5-8e23-45f2-a0ed-e395893615ce"
      },
      "source": [
        "dfn = pd.concat([dfn1]).reset_index(drop=True)\n",
        "len(dfn)"
      ],
      "execution_count": 149,
      "outputs": [
        {
          "output_type": "execute_result",
          "data": {
            "text/plain": [
              "17955"
            ]
          },
          "metadata": {
            "tags": []
          },
          "execution_count": 149
        }
      ]
    },
    {
      "cell_type": "code",
      "metadata": {
        "id": "WMYPj-c16p5u",
        "colab": {
          "base_uri": "https://localhost:8080/",
          "height": 336
        },
        "outputId": "a5378be9-778b-4688-f9de-6ce364c98d89"
      },
      "source": [
        "import matplotlib.pyplot as plt\n",
        "plt.figure(figsize=(20, 5))\n",
        "plt.plot(dfn['PLETH'][:2000])"
      ],
      "execution_count": 150,
      "outputs": [
        {
          "output_type": "execute_result",
          "data": {
            "text/plain": [
              "[<matplotlib.lines.Line2D at 0x7f9bfbe13190>]"
            ]
          },
          "metadata": {
            "tags": []
          },
          "execution_count": 150
        },
        {
          "output_type": "display_data",
          "data": {
            "image/png": "[encoded data removed]",
            "text/plain": [
              "<Figure size 1440x360 with 1 Axes>"
            ]
          },
          "metadata": {
            "tags": [],
            "needs_background": "light"
          }
        }
      ]
    },
    {
      "cell_type": "code",
      "metadata": {
        "id": "wn1jUYhQ6p5v"
      },
      "source": [
        "dfn = dfn.loc[0:1899]\n",
        "dfn.to_csv('/content/drive/MyDrive/DATABASE/Clean/af2clean.csv')"
      ],
      "execution_count": 152,
      "outputs": []
    },
    {
      "cell_type": "code",
      "metadata": {
        "id": "mGY6mzET6p5v",
        "colab": {
          "base_uri": "https://localhost:8080/",
          "height": 35
        },
        "outputId": "4485044b-1b57-4574-e70c-e7214ea7b809"
      },
      "source": [
        "\"\"\"PVC\"\"\""
      ],
      "execution_count": 153,
      "outputs": [
        {
          "output_type": "execute_result",
          "data": {
            "application/vnd.google.colaboratory.intrinsic+json": {
              "type": "string"
            },
            "text/plain": [
              "'PVC'"
            ]
          },
          "metadata": {
            "tags": []
          },
          "execution_count": 153
        }
      ]
    },
    {
      "cell_type": "code",
      "metadata": {
        "id": "miLCj6fa6p5v",
        "colab": {
          "base_uri": "https://localhost:8080/",
          "height": 76
        },
        "outputId": "056f4852-9f60-43e4-f6f3-db66aa3b6539"
      },
      "source": [
        "dfv1 = pd.read_csv('/content/drive/MyDrive/DATABASE/raw_data/PVC1.csv')\n",
        "dfv1.head(1)"
      ],
      "execution_count": 154,
      "outputs": [
        {
          "output_type": "execute_result",
          "data": {
            "text/html": [
              "<div>\n",
              "<style scoped>\n",
              "    .dataframe tbody tr th:only-of-type {\n",
              "        vertical-align: middle;\n",
              "    }\n",
              "\n",
              "    .dataframe tbody tr th {\n",
              "        vertical-align: top;\n",
              "    }\n",
              "\n",
              "    .dataframe thead th {\n",
              "        text-align: right;\n",
              "    }\n",
              "</style>\n",
              "<table border=\"1\" class=\"dataframe\">\n",
              "  <thead>\n",
              "    <tr style=\"text-align: right;\">\n",
              "      <th></th>\n",
              "      <th>Time</th>\n",
              "      <th>II</th>\n",
              "      <th>PLETH</th>\n",
              "    </tr>\n",
              "  </thead>\n",
              "  <tbody>\n",
              "    <tr>\n",
              "      <th>0</th>\n",
              "      <td>00:01:58.112</td>\n",
              "      <td>0.36</td>\n",
              "      <td>0.516</td>\n",
              "    </tr>\n",
              "  </tbody>\n",
              "</table>\n",
              "</div>"
            ],
            "text/plain": [
              "           Time    II  PLETH\n",
              "0  00:01:58.112  0.36  0.516"
            ]
          },
          "metadata": {
            "tags": []
          },
          "execution_count": 154
        }
      ]
    },
    {
      "cell_type": "code",
      "metadata": {
        "id": "Zi37SG9c6p5w",
        "colab": {
          "base_uri": "https://localhost:8080/"
        },
        "outputId": "88c7ff1e-f9e6-4b5e-88a2-3887b59c6cd8"
      },
      "source": [
        "print(type(dfv1['II'][0]))\n",
        "print(type(dfv1['PLETH'][0]))"
      ],
      "execution_count": 155,
      "outputs": [
        {
          "output_type": "stream",
          "text": [
            "<class 'numpy.float64'>\n",
            "<class 'numpy.float64'>\n"
          ],
          "name": "stdout"
        }
      ]
    },
    {
      "cell_type": "code",
      "metadata": {
        "id": "k95MBl676p5w",
        "colab": {
          "base_uri": "https://localhost:8080/",
          "height": 76
        },
        "outputId": "af5f7cdb-d4d6-4fda-8966-91978aa00a3f"
      },
      "source": [
        "dfv1['II'].replace('', np.nan, inplace=True)\n",
        "dfv1.dropna(subset=['II'], inplace=True)\n",
        "dfv1['PLETH'].replace('', np.nan, inplace=True)\n",
        "dfv1.dropna(subset=['PLETH'], inplace=True)\n",
        "\n",
        "dfv1.head(1)"
      ],
      "execution_count": 156,
      "outputs": [
        {
          "output_type": "execute_result",
          "data": {
            "text/html": [
              "<div>\n",
              "<style scoped>\n",
              "    .dataframe tbody tr th:only-of-type {\n",
              "        vertical-align: middle;\n",
              "    }\n",
              "\n",
              "    .dataframe tbody tr th {\n",
              "        vertical-align: top;\n",
              "    }\n",
              "\n",
              "    .dataframe thead th {\n",
              "        text-align: right;\n",
              "    }\n",
              "</style>\n",
              "<table border=\"1\" class=\"dataframe\">\n",
              "  <thead>\n",
              "    <tr style=\"text-align: right;\">\n",
              "      <th></th>\n",
              "      <th>Time</th>\n",
              "      <th>II</th>\n",
              "      <th>PLETH</th>\n",
              "    </tr>\n",
              "  </thead>\n",
              "  <tbody>\n",
              "    <tr>\n",
              "      <th>0</th>\n",
              "      <td>00:01:58.112</td>\n",
              "      <td>0.36</td>\n",
              "      <td>0.516</td>\n",
              "    </tr>\n",
              "  </tbody>\n",
              "</table>\n",
              "</div>"
            ],
            "text/plain": [
              "           Time    II  PLETH\n",
              "0  00:01:58.112  0.36  0.516"
            ]
          },
          "metadata": {
            "tags": []
          },
          "execution_count": 156
        }
      ]
    },
    {
      "cell_type": "code",
      "metadata": {
        "id": "xhwh5Ln46p5x",
        "colab": {
          "base_uri": "https://localhost:8080/"
        },
        "outputId": "26cb26e7-a44b-4a5a-ebdd-92a6e057f904"
      },
      "source": [
        "dfv = pd.concat([dfv1]).reset_index(drop=True)\n",
        "len(dfv)"
      ],
      "execution_count": 157,
      "outputs": [
        {
          "output_type": "execute_result",
          "data": {
            "text/plain": [
              "951"
            ]
          },
          "metadata": {
            "tags": []
          },
          "execution_count": 157
        }
      ]
    },
    {
      "cell_type": "code",
      "metadata": {
        "id": "fq4fxNM16p5x",
        "colab": {
          "base_uri": "https://localhost:8080/",
          "height": 336
        },
        "outputId": "069f77a7-ce26-4902-b0ee-fb2fde7e4767"
      },
      "source": [
        "import matplotlib.pyplot as plt\n",
        "plt.figure(figsize=(20, 5))\n",
        "plt.plot(dfv['PLETH'][0:2000])"
      ],
      "execution_count": 158,
      "outputs": [
        {
          "output_type": "execute_result",
          "data": {
            "text/plain": [
              "[<matplotlib.lines.Line2D at 0x7f9bfbd95790>]"
            ]
          },
          "metadata": {
            "tags": []
          },
          "execution_count": 158
        },
        {
          "output_type": "display_data",
          "data": {
            "image/png": "[encoded data removed]",
            "text/plain": [
              "<Figure size 1440x360 with 1 Axes>"
            ]
          },
          "metadata": {
            "tags": [],
            "needs_background": "light"
          }
        }
      ]
    },
    {
      "cell_type": "code",
      "metadata": {
        "id": "A3oA7Teb6p5x"
      },
      "source": [
        "dfv = dfv.loc[0:1899]\n",
        "dfv.to_csv('/content/drive/MyDrive/DATABASE/Clean/PVC2.csv')"
      ],
      "execution_count": 159,
      "outputs": []
    },
    {
      "cell_type": "code",
      "metadata": {
        "id": "ONm7YFm66p5y",
        "colab": {
          "base_uri": "https://localhost:8080/",
          "height": 35
        },
        "outputId": "9eccfbac-bc82-4fd3-f9e2-5a9a325574f7"
      },
      "source": [
        "\"Normal\""
      ],
      "execution_count": 160,
      "outputs": [
        {
          "output_type": "execute_result",
          "data": {
            "application/vnd.google.colaboratory.intrinsic+json": {
              "type": "string"
            },
            "text/plain": [
              "'Normal'"
            ]
          },
          "metadata": {
            "tags": []
          },
          "execution_count": 160
        }
      ]
    },
    {
      "cell_type": "code",
      "metadata": {
        "id": "lcJ2WL0A6p5y"
      },
      "source": [
        "import pandas as pd\n",
        "import numpy as np\n",
        "dfn1 = pd.read_csv('/content/drive/MyDrive/DATABASE/raw_data/N1.csv')"
      ],
      "execution_count": 162,
      "outputs": []
    },
    {
      "cell_type": "code",
      "metadata": {
        "id": "9-57lthT6p5y",
        "colab": {
          "base_uri": "https://localhost:8080/"
        },
        "outputId": "48ef8750-15df-40a7-c9f6-5625f7dfd2d1"
      },
      "source": [
        "#check type data\n",
        "print(type(dfn1['II'][0]))\n",
        "print(type(dfn1['Pleth'][0]))"
      ],
      "execution_count": 163,
      "outputs": [
        {
          "output_type": "stream",
          "text": [
            "<class 'numpy.float64'>\n",
            "<class 'numpy.int64'>\n"
          ],
          "name": "stdout"
        }
      ]
    },
    {
      "cell_type": "code",
      "metadata": {
        "id": "3UfkM4_B6p5z"
      },
      "source": [
        "#memotong data \n",
        "dfn1 = dfn1.loc[100:]"
      ],
      "execution_count": 164,
      "outputs": []
    },
    {
      "cell_type": "code",
      "metadata": {
        "id": "NCg1lmHv6p5z",
        "colab": {
          "base_uri": "https://localhost:8080/",
          "height": 76
        },
        "outputId": "2dcb273c-409e-467a-e53d-ba5808489b24"
      },
      "source": [
        "#pembersihan objek dr str yg tdk terpakai\n",
        "dfn1['II'].replace('', np.nan, inplace=True)\n",
        "dfn1.dropna(subset=['II'], inplace=True)\n",
        "dfn1['Pleth'].replace('', np.nan, inplace=True)\n",
        "dfn1.dropna(subset=['Pleth'], inplace=True)\n",
        "\n",
        "dfn1.head(1)"
      ],
      "execution_count": 166,
      "outputs": [
        {
          "output_type": "execute_result",
          "data": {
            "text/html": [
              "<div>\n",
              "<style scoped>\n",
              "    .dataframe tbody tr th:only-of-type {\n",
              "        vertical-align: middle;\n",
              "    }\n",
              "\n",
              "    .dataframe tbody tr th {\n",
              "        vertical-align: top;\n",
              "    }\n",
              "\n",
              "    .dataframe thead th {\n",
              "        text-align: right;\n",
              "    }\n",
              "</style>\n",
              "<table border=\"1\" class=\"dataframe\">\n",
              "  <thead>\n",
              "    <tr style=\"text-align: right;\">\n",
              "      <th></th>\n",
              "      <th>Time</th>\n",
              "      <th>Pleth</th>\n",
              "      <th>II</th>\n",
              "    </tr>\n",
              "  </thead>\n",
              "  <tbody>\n",
              "    <tr>\n",
              "      <th>100</th>\n",
              "      <td>20:56:13.146</td>\n",
              "      <td>-92</td>\n",
              "      <td>19.57</td>\n",
              "    </tr>\n",
              "  </tbody>\n",
              "</table>\n",
              "</div>"
            ],
            "text/plain": [
              "             Time  Pleth     II\n",
              "100  20:56:13.146    -92  19.57"
            ]
          },
          "metadata": {
            "tags": []
          },
          "execution_count": 166
        }
      ]
    },
    {
      "cell_type": "code",
      "metadata": {
        "id": "yRJ9AFD76p5z",
        "colab": {
          "base_uri": "https://localhost:8080/"
        },
        "outputId": "a7b08812-5b8c-4e4a-9cec-013eb98011c1"
      },
      "source": [
        "dfn = pd.concat([dfn1]).reset_index(drop=True)\n",
        "len(dfn)"
      ],
      "execution_count": 167,
      "outputs": [
        {
          "output_type": "execute_result",
          "data": {
            "text/plain": [
              "5364"
            ]
          },
          "metadata": {
            "tags": []
          },
          "execution_count": 167
        }
      ]
    },
    {
      "cell_type": "code",
      "metadata": {
        "id": "DkgaQZRS6p5z",
        "colab": {
          "base_uri": "https://localhost:8080/",
          "height": 336
        },
        "outputId": "67a740d7-f8b9-4bb1-ebf3-01692f05deaf"
      },
      "source": [
        "import matplotlib.pyplot as plt\n",
        "plt.figure(figsize=(20, 5))\n",
        "plt.plot(dfn['Pleth'][:2000])"
      ],
      "execution_count": 168,
      "outputs": [
        {
          "output_type": "execute_result",
          "data": {
            "text/plain": [
              "[<matplotlib.lines.Line2D at 0x7f9bfbd2b190>]"
            ]
          },
          "metadata": {
            "tags": []
          },
          "execution_count": 168
        },
        {
          "output_type": "display_data",
          "data": {
            "image/png": "[encoded data removed]",
            "text/plain": [
              "<Figure size 1440x360 with 1 Axes>"
            ]
          },
          "metadata": {
            "tags": [],
            "needs_background": "light"
          }
        }
      ]
    },
    {
      "cell_type": "code",
      "metadata": {
        "id": "hnvsDUbK6p50"
      },
      "source": [
        "dfn = dfn.loc[0:1899]\n",
        "dfn.to_csv('/content/drive/MyDrive/DATABASE/Clean/N1.csv')"
      ],
      "execution_count": 190,
      "outputs": []
    },
    {
      "cell_type": "markdown",
      "metadata": {
        "id": "S9e7nJzG6ckA"
      },
      "source": [
        "## 2.feature extraction"
      ]
    },
    {
      "cell_type": "code",
      "metadata": {
        "id": "AhrRLBGj9ZuZ",
        "colab": {
          "base_uri": "https://localhost:8080/",
          "height": 391
        },
        "outputId": "3b0c34a1-9b40-4b61-fb0e-d31d2144cf73"
      },
      "source": [
        "import pandas as pd\n",
        "import numpy as np\n",
        "dfn = pd.read_csv('/content/drive/MyDrive/DATABASE/Clean/af2clean.csv')\n",
        "dfn"
      ],
      "execution_count": 173,
      "outputs": [
        {
          "output_type": "execute_result",
          "data": {
            "text/html": [
              "<div>\n",
              "<style scoped>\n",
              "    .dataframe tbody tr th:only-of-type {\n",
              "        vertical-align: middle;\n",
              "    }\n",
              "\n",
              "    .dataframe tbody tr th {\n",
              "        vertical-align: top;\n",
              "    }\n",
              "\n",
              "    .dataframe thead th {\n",
              "        text-align: right;\n",
              "    }\n",
              "</style>\n",
              "<table border=\"1\" class=\"dataframe\">\n",
              "  <thead>\n",
              "    <tr style=\"text-align: right;\">\n",
              "      <th></th>\n",
              "      <th>Unnamed: 0</th>\n",
              "      <th>Time</th>\n",
              "      <th>II</th>\n",
              "      <th>PLETH</th>\n",
              "    </tr>\n",
              "  </thead>\n",
              "  <tbody>\n",
              "    <tr>\n",
              "      <th>0</th>\n",
              "      <td>0</td>\n",
              "      <td>11:20:05.085</td>\n",
              "      <td>4.44</td>\n",
              "      <td>-134.0</td>\n",
              "    </tr>\n",
              "    <tr>\n",
              "      <th>1</th>\n",
              "      <td>1</td>\n",
              "      <td>11:20:05.085</td>\n",
              "      <td>3.94</td>\n",
              "      <td>-125.0</td>\n",
              "    </tr>\n",
              "    <tr>\n",
              "      <th>2</th>\n",
              "      <td>2</td>\n",
              "      <td>11:20:05.134</td>\n",
              "      <td>2.54</td>\n",
              "      <td>-120.0</td>\n",
              "    </tr>\n",
              "    <tr>\n",
              "      <th>3</th>\n",
              "      <td>3</td>\n",
              "      <td>11:20:05.134</td>\n",
              "      <td>0.60</td>\n",
              "      <td>-112.0</td>\n",
              "    </tr>\n",
              "    <tr>\n",
              "      <th>4</th>\n",
              "      <td>4</td>\n",
              "      <td>11:20:05.184</td>\n",
              "      <td>-1.25</td>\n",
              "      <td>-105.0</td>\n",
              "    </tr>\n",
              "    <tr>\n",
              "      <th>...</th>\n",
              "      <td>...</td>\n",
              "      <td>...</td>\n",
              "      <td>...</td>\n",
              "      <td>...</td>\n",
              "    </tr>\n",
              "    <tr>\n",
              "      <th>1895</th>\n",
              "      <td>1895</td>\n",
              "      <td>11:20:42.947</td>\n",
              "      <td>4.93</td>\n",
              "      <td>-99.0</td>\n",
              "    </tr>\n",
              "    <tr>\n",
              "      <th>1896</th>\n",
              "      <td>1896</td>\n",
              "      <td>11:20:42.947</td>\n",
              "      <td>2.98</td>\n",
              "      <td>-94.0</td>\n",
              "    </tr>\n",
              "    <tr>\n",
              "      <th>1897</th>\n",
              "      <td>1897</td>\n",
              "      <td>11:20:42.981</td>\n",
              "      <td>2.24</td>\n",
              "      <td>-91.0</td>\n",
              "    </tr>\n",
              "    <tr>\n",
              "      <th>1898</th>\n",
              "      <td>1898</td>\n",
              "      <td>11:20:42.981</td>\n",
              "      <td>1.86</td>\n",
              "      <td>-86.0</td>\n",
              "    </tr>\n",
              "    <tr>\n",
              "      <th>1899</th>\n",
              "      <td>1899</td>\n",
              "      <td>11:20:43.03</td>\n",
              "      <td>1.38</td>\n",
              "      <td>-83.0</td>\n",
              "    </tr>\n",
              "  </tbody>\n",
              "</table>\n",
              "<p>1900 rows × 4 columns</p>\n",
              "</div>"
            ],
            "text/plain": [
              "      Unnamed: 0          Time    II  PLETH\n",
              "0              0  11:20:05.085  4.44 -134.0\n",
              "1              1  11:20:05.085  3.94 -125.0\n",
              "2              2  11:20:05.134  2.54 -120.0\n",
              "3              3  11:20:05.134  0.60 -112.0\n",
              "4              4  11:20:05.184 -1.25 -105.0\n",
              "...          ...           ...   ...    ...\n",
              "1895        1895  11:20:42.947  4.93  -99.0\n",
              "1896        1896  11:20:42.947  2.98  -94.0\n",
              "1897        1897  11:20:42.981  2.24  -91.0\n",
              "1898        1898  11:20:42.981  1.86  -86.0\n",
              "1899        1899   11:20:43.03  1.38  -83.0\n",
              "\n",
              "[1900 rows x 4 columns]"
            ]
          },
          "metadata": {
            "tags": []
          },
          "execution_count": 173
        }
      ]
    },
    {
      "cell_type": "code",
      "metadata": {
        "id": "QHCGEzH19Zuc",
        "colab": {
          "base_uri": "https://localhost:8080/",
          "height": 76
        },
        "outputId": "28861c24-4879-4127-f3b6-ff832df264a8"
      },
      "source": [
        "dfn.drop(['Unnamed: 0', 'Time'], axis=1, inplace=True)\n",
        "dfn.head(1)"
      ],
      "execution_count": 174,
      "outputs": [
        {
          "output_type": "execute_result",
          "data": {
            "text/html": [
              "<div>\n",
              "<style scoped>\n",
              "    .dataframe tbody tr th:only-of-type {\n",
              "        vertical-align: middle;\n",
              "    }\n",
              "\n",
              "    .dataframe tbody tr th {\n",
              "        vertical-align: top;\n",
              "    }\n",
              "\n",
              "    .dataframe thead th {\n",
              "        text-align: right;\n",
              "    }\n",
              "</style>\n",
              "<table border=\"1\" class=\"dataframe\">\n",
              "  <thead>\n",
              "    <tr style=\"text-align: right;\">\n",
              "      <th></th>\n",
              "      <th>II</th>\n",
              "      <th>PLETH</th>\n",
              "    </tr>\n",
              "  </thead>\n",
              "  <tbody>\n",
              "    <tr>\n",
              "      <th>0</th>\n",
              "      <td>4.44</td>\n",
              "      <td>-134.0</td>\n",
              "    </tr>\n",
              "  </tbody>\n",
              "</table>\n",
              "</div>"
            ],
            "text/plain": [
              "     II  PLETH\n",
              "0  4.44 -134.0"
            ]
          },
          "metadata": {
            "tags": []
          },
          "execution_count": 174
        }
      ]
    },
    {
      "cell_type": "code",
      "metadata": {
        "id": "HsVt_aQg9Zud",
        "colab": {
          "base_uri": "https://localhost:8080/"
        },
        "outputId": "97a1330a-5203-47ad-97a4-93c82cea00b1"
      },
      "source": [
        "# mencari peak sinyal pleth\n",
        "import scipy.signal\n",
        "peaksn,_ = scipy.signal.find_peaks(dfn['PLETH'], distance=30)\n",
        "peaksn"
      ],
      "execution_count": 175,
      "outputs": [
        {
          "output_type": "execute_result",
          "data": {
            "text/plain": [
              "array([  25,   79,  118,  168,  213,  265,  310,  368,  408,  459,  505,\n",
              "        555,  604,  658,  706,  748,  803,  843,  894,  947,  988, 1046,\n",
              "       1086, 1137, 1184, 1232, 1280, 1329, 1380, 1426, 1475, 1524, 1574,\n",
              "       1619, 1666, 1715, 1763, 1821, 1860])"
            ]
          },
          "metadata": {
            "tags": []
          },
          "execution_count": 175
        }
      ]
    },
    {
      "cell_type": "code",
      "metadata": {
        "id": "q5MhFkFB9Zue",
        "colab": {
          "base_uri": "https://localhost:8080/"
        },
        "outputId": "fec15e6d-129c-4019-d546-e5f9ea2523e5"
      },
      "source": [
        "# hasil peak sinyal pleth\n",
        "peaksnidxn = dfn['PLETH'][peaksn]\n",
        "print(peaksnidxn)"
      ],
      "execution_count": 176,
      "outputs": [
        {
          "output_type": "stream",
          "text": [
            "25     -73.0\n",
            "79     -72.0\n",
            "118    -70.0\n",
            "168    -74.0\n",
            "213    -71.0\n",
            "265    -73.0\n",
            "310    -72.0\n",
            "368    -70.0\n",
            "408    -74.0\n",
            "459    -66.0\n",
            "505    -69.0\n",
            "555    -66.0\n",
            "604    -64.0\n",
            "658    -66.0\n",
            "706    -68.0\n",
            "748    -67.0\n",
            "803    -64.0\n",
            "843    -67.0\n",
            "894    -65.0\n",
            "947    -64.0\n",
            "988    -69.0\n",
            "1046   -66.0\n",
            "1086   -72.0\n",
            "1137   -71.0\n",
            "1184   -72.0\n",
            "1232   -76.0\n",
            "1280   -73.0\n",
            "1329   -69.0\n",
            "1380   -73.0\n",
            "1426   -70.0\n",
            "1475   -72.0\n",
            "1524   -69.0\n",
            "1574   -64.0\n",
            "1619   -73.0\n",
            "1666   -71.0\n",
            "1715   -67.0\n",
            "1763   -71.0\n",
            "1821   -68.0\n",
            "1860   -66.0\n",
            "Name: PLETH, dtype: float64\n"
          ],
          "name": "stdout"
        }
      ]
    },
    {
      "cell_type": "code",
      "metadata": {
        "id": "xX11b8jX9Zue"
      },
      "source": [
        "import matplotlib.pyplot as plt\n",
        "import matplotlib.lines as mlines"
      ],
      "execution_count": 177,
      "outputs": []
    },
    {
      "cell_type": "code",
      "metadata": {
        "id": "wYcg6HLX9Zuf",
        "colab": {
          "base_uri": "https://localhost:8080/",
          "height": 336
        },
        "outputId": "a92f6a76-7237-4d7b-9c40-ff4a358ab93d"
      },
      "source": [
        "#plot peak R sinyal kedalam grafik\n",
        "peakslabel = mlines.Line2D([], [], color='red', linestyle=' ', marker='o', label='R Accepted')\n",
        "plt.figure(figsize=(10, 5))\n",
        "plt.legend(handles=[peakslabel])\n",
        "plt.plot(dfn['PLETH'])\n",
        "plt.plot(peaksnidxn, 'o', color='red')"
      ],
      "execution_count": 178,
      "outputs": [
        {
          "output_type": "execute_result",
          "data": {
            "text/plain": [
              "[<matplotlib.lines.Line2D at 0x7f9bfbca9790>]"
            ]
          },
          "metadata": {
            "tags": []
          },
          "execution_count": 178
        },
        {
          "output_type": "display_data",
          "data": {
            "image/png": "[encoded data removed]",
            "text/plain": [
              "<Figure size 720x360 with 1 Axes>"
            ]
          },
          "metadata": {
            "tags": [],
            "needs_background": "light"
          }
        }
      ]
    },
    {
      "cell_type": "code",
      "metadata": {
        "id": "jLYb-oy4usci",
        "outputId": "3980ae86-26ab-4029-ef2e-e072dd4dda2b"
      },
      "source": [
        "#mengambil data pleth untuk dijadikan list dataaf[]\n",
        "datan = []\n",
        "for i in range(0,18):\n",
        "  rown=[]\n",
        "  for j in range(0,100):\n",
        "    data = dfn['PLETH'][(i*100)+j]\n",
        "    rown.append(data)\n",
        "  datan.append(rown)\n",
        "\n",
        "#print(datan)"
      ],
      "execution_count": null,
      "outputs": [
        {
          "output_type": "stream",
          "text": [
            "[[-163.0, -155.0, -146.0, -139.0, -130.0, -122.0, -115.0, -107.0, -101.0, -96.0, -92.0, -88.0, -84.0, -81.0, -77.0, -76.0, -73.0, -71.0, -71.0, -69.0, -69.0, -68.0, -69.0, -70.0, -71.0, -72.0, -71.0, -69.0, -69.0, -68.0, -68.0, -68.0, -69.0, -71.0, -75.0, -86.0, -101.0, -116.0, -130.0, -143.0, -153.0, -161.0, -168.0, -171.0, -174.0, -174.0, -172.0, -169.0, -164.0, -158.0, -151.0, -142.0, -133.0, -125.0, -117.0, -109.0, -102.0, -96.0, -90.0, -87.0, -83.0, -80.0, -78.0, -76.0, -74.0, -73.0, -70.0, -70.0, -69.0, -69.0, -70.0, -67.0, -67.0, -66.0, -67.0, -66.0, -67.0, -67.0, -69.0, -70.0, -70.0, -72.0, -74.0, -82.0, -95.0, -111.0, -126.0, -139.0, -150.0, -159.0, -165.0, -169.0, -172.0, -174.0, -174.0, -173.0, -167.0, -160.0, -152.0, -144.0], [-134.0, -125.0, -120.0, -112.0, -105.0, -100.0, -96.0, -91.0, -88.0, -83.0, -82.0, -81.0, -79.0, -77.0, -75.0, -75.0, -75.0, -74.0, -74.0, -75.0, -75.0, -75.0, -74.0, -74.0, -75.0, -73.0, -74.0, -75.0, -75.0, -74.0, -75.0, -79.0, -89.0, -103.0, -120.0, -135.0, -147.0, -157.0, -165.0, -172.0, -178.0, -180.0, -181.0, -179.0, -178.0, -171.0, -163.0, -156.0, -146.0, -136.0, -128.0, -119.0, -112.0, -107.0, -102.0, -97.0, -94.0, -89.0, -87.0, -85.0, -82.0, -80.0, -78.0, -77.0, -76.0, -76.0, -74.0, -73.0, -72.0, -72.0, -72.0, -73.0, -73.0, -72.0, -74.0, -73.0, -73.0, -73.0, -73.0, -72.0, -77.0, -87.0, -104.0, -118.0, -131.0, -143.0, -154.0, -161.0, -170.0, -175.0, -179.0, -180.0, -178.0, -173.0, -166.0, -159.0, -149.0, -139.0, -131.0, -123.0], [-115.0, -106.0, -100.0, -95.0, -91.0, -88.0, -85.0, -82.0, -81.0, -79.0, -76.0, -73.0, -73.0, -75.0, -73.0, -71.0, -71.0, -70.0, -70.0, -70.0, -70.0, -72.0, -71.0, -73.0, -73.0, -74.0, -76.0, -79.0, -84.0, -96.0, -109.0, -124.0, -137.0, -148.0, -157.0, -165.0, -173.0, -175.0, -178.0, -180.0, -179.0, -176.0, -169.0, -162.0, -152.0, -144.0, -135.0, -127.0, -119.0, -112.0, -106.0, -101.0, -96.0, -93.0, -89.0, -87.0, -85.0, -83.0, -81.0, -80.0, -79.0, -78.0, -78.0, -77.0, -77.0, -76.0, -76.0, -74.0, -74.0, -74.0, -76.0, -76.0, -77.0, -77.0, -77.0, -79.0, -79.0, -85.0, -98.0, -110.0, -123.0, -137.0, -150.0, -159.0, -167.0, -175.0, -181.0, -185.0, -187.0, -186.0, -182.0, -175.0, -165.0, -154.0, -144.0, -133.0, -124.0, -119.0, -113.0, -108.0], [-101.0, -97.0, -92.0, -89.0, -85.0, -83.0, -82.0, -78.0, -75.0, -74.0, -73.0, -73.0, -71.0, -71.0, -71.0, -72.0, -71.0, -71.0, -73.0, -71.0, -72.0, -72.0, -73.0, -71.0, -72.0, -75.0, -85.0, -101.0, -116.0, -133.0, -146.0, -156.0, -164.0, -170.0, -176.0, -181.0, -182.0, -183.0, -180.0, -174.0, -164.0, -153.0, -143.0, -135.0, -127.0, -119.0, -112.0, -105.0, -102.0, -98.0, -94.0, -90.0, -86.0, -82.0, -81.0, -79.0, -78.0, -76.0, -76.0, -74.0, -75.0, -74.0, -75.0, -74.0, -73.0, -73.0, -73.0, -74.0, -73.0, -73.0, -75.0, -75.0, -75.0, -78.0, -85.0, -98.0, -113.0, -129.0, -141.0, -153.0, -161.0, -172.0, -179.0, -187.0, -190.0, -190.0, -187.0, -182.0, -175.0, -164.0, -153.0, -145.0, -137.0, -129.0, -123.0, -116.0, -109.0, -102.0, -96.0, -93.0], [-90.0, -86.0, -84.0, -80.0, -79.0, -77.0, -76.0, -75.0, -75.0, -74.0, -72.0, -73.0, -73.0, -74.0, -73.0, -74.0, -74.0, -75.0, -76.0, -77.0, -77.0, -77.0, -80.0, -90.0, -104.0, -118.0, -133.0, -148.0, -160.0, -170.0, -178.0, -184.0, -187.0, -188.0, -185.0, -181.0, -175.0, -166.0, -157.0, -147.0, -136.0, -125.0, -117.0, -110.0, -104.0, -102.0, -98.0, -94.0, -89.0, -84.0, -83.0, -81.0, -80.0, -78.0, -76.0, -75.0, -74.0, -74.0, -73.0, -72.0, -72.0, -72.0, -71.0, -72.0, -71.0, -71.0, -71.0, -71.0, -70.0, -70.0, -76.0, -89.0, -106.0, -124.0, -141.0, -156.0, -166.0, -175.0, -181.0, -187.0, -191.0, -191.0, -189.0, -185.0, -179.0, -171.0, -161.0, -152.0, -142.0, -132.0, -124.0, -117.0, -111.0, -108.0, -103.0, -99.0, -95.0, -92.0, -91.0, -88.0], [-86.0, -85.0, -82.0, -78.0, -78.0, -77.0, -76.0, -75.0, -74.0, -76.0, -75.0, -76.0, -76.0, -75.0, -75.0, -75.0, -76.0, -76.0, -75.0, -78.0, -89.0, -104.0, -122.0, -139.0, -154.0, -167.0, -176.0, -185.0, -191.0, -194.0, -197.0, -195.0, -193.0, -187.0, -179.0, -167.0, -157.0, -144.0, -133.0, -125.0, -118.0, -113.0, -107.0, -101.0, -97.0, -92.0, -89.0, -85.0, -82.0, -78.0, -77.0, -75.0, -74.0, -73.0, -71.0, -70.0, -69.0, -67.0, -67.0, -66.0, -67.0, -67.0, -67.0, -67.0, -68.0, -68.0, -69.0, -71.0, -81.0, -96.0, -114.0, -132.0, -148.0, -162.0, -173.0, -182.0, -188.0, -190.0, -193.0, -194.0, -193.0, -187.0, -178.0, -168.0, -157.0, -145.0, -133.0, -124.0, -117.0, -111.0, -105.0, -101.0, -96.0, -94.0, -90.0, -87.0, -83.0, -80.0, -79.0, -78.0], [-76.0, -73.0, -72.0, -71.0, -70.0, -69.0, -69.0, -70.0, -72.0, -73.0, -73.0, -74.0, -75.0, -76.0, -77.0, -76.0, -80.0, -91.0, -106.0, -123.0, -137.0, -152.0, -164.0, -177.0, -186.0, -192.0, -197.0, -198.0, -195.0, -190.0, -183.0, -173.0, -161.0, -152.0, -141.0, -132.0, -123.0, -115.0, -107.0, -101.0, -97.0, -93.0, -88.0, -85.0, -82.0, -80.0, -77.0, -74.0, -73.0, -70.0, -67.0, -67.0, -67.0, -67.0, -67.0, -66.0, -66.0, -68.0, -67.0, -69.0, -69.0, -69.0, -70.0, -70.0, -71.0, -80.0, -96.0, -113.0, -130.0, -144.0, -156.0, -167.0, -177.0, -184.0, -189.0, -191.0, -192.0, -191.0, -185.0, -176.0, -165.0, -153.0, -140.0, -128.0, -118.0, -112.0, -106.0, -101.0, -96.0, -91.0, -87.0, -83.0, -78.0, -75.0, -72.0, -71.0, -69.0, -67.0, -66.0, -66.0], [-66.0, -66.0, -66.0, -65.0, -64.0, -66.0, -68.0, -70.0, -71.0, -72.0, -71.0, -73.0, -74.0, -83.0, -97.0, -114.0, -128.0, -144.0, -158.0, -169.0, -179.0, -187.0, -191.0, -193.0, -191.0, -188.0, -180.0, -171.0, -159.0, -149.0, -138.0, -130.0, -122.0, -116.0, -109.0, -101.0, -96.0, -90.0, -85.0, -83.0, -79.0, -76.0, -74.0, -71.0, -70.0, -69.0, -68.0, -69.0, -69.0, -68.0, -68.0, -68.0, -66.0, -67.0, -66.0, -67.0, -67.0, -67.0, -66.0, -68.0, -68.0, -70.0, -78.0, -92.0, -111.0, -126.0, -142.0, -156.0, -168.0, -178.0, -187.0, -192.0, -193.0, -193.0, -189.0, -182.0, -172.0, -161.0, -151.0, -138.0, -128.0, -121.0, -111.0, -102.0, -94.0, -89.0, -85.0, -80.0, -77.0, -75.0, -73.0, -72.0, -71.0, -71.0, -70.0, -69.0, -69.0, -69.0, -70.0, -69.0], [-71.0, -71.0, -70.0, -70.0, -71.0, -69.0, -68.0, -70.0, -71.0, -77.0, -90.0, -107.0, -122.0, -137.0, -152.0, -163.0, -174.0, -181.0, -188.0, -192.0, -195.0, -193.0, -190.0, -184.0, -173.0, -160.0, -149.0, -136.0, -126.0, -118.0, -110.0, -105.0, -99.0, -94.0, -89.0, -85.0, -82.0, -79.0, -75.0, -74.0, -73.0, -71.0, -70.0, -69.0, -70.0, -69.0, -68.0, -68.0, -67.0, -68.0, -67.0, -69.0, -69.0, -71.0, -71.0, -71.0, -72.0, -74.0, -76.0, -83.0, -98.0, -115.0, -131.0, -146.0, -158.0, -169.0, -181.0, -188.0, -194.0, -196.0, -194.0, -188.0, -181.0, -172.0, -161.0, -151.0, -140.0, -129.0, -120.0, -110.0, -103.0, -98.0, -91.0, -87.0, -83.0, -79.0, -76.0, -73.0, -72.0, -69.0, -68.0, -68.0, -66.0, -65.0, -66.0, -65.0, -66.0, -67.0, -66.0, -65.0], [-65.0, -65.0, -65.0, -64.0, -65.0, -65.0, -69.0, -80.0, -97.0, -112.0, -128.0, -143.0, -157.0, -167.0, -175.0, -180.0, -183.0, -186.0, -187.0, -185.0, -181.0, -169.0, -157.0, -145.0, -135.0, -128.0, -120.0, -114.0, -107.0, -100.0, -92.0, -87.0, -83.0, -82.0, -80.0, -79.0, -76.0, -73.0, -71.0, -69.0, -69.0, -68.0, -68.0, -67.0, -68.0, -68.0, -68.0, -67.0, -68.0, -68.0, -69.0, -69.0, -70.0, -70.0, -72.0, -76.0, -88.0, -104.0, -120.0, -135.0, -149.0, -159.0, -169.0, -178.0, -185.0, -191.0, -192.0, -193.0, -186.0, -178.0, -167.0, -155.0, -144.0, -134.0, -126.0, -118.0, -109.0, -102.0, -94.0, -88.0, -84.0, -80.0, -78.0, -74.0, -72.0, -71.0, -69.0, -69.0, -69.0, -67.0, -66.0, -65.0, -66.0, -66.0, -65.0, -66.0, -66.0, -66.0, -66.0, -68.0], [-69.0, -69.0, -71.0, -73.0, -79.0, -92.0, -107.0, -121.0, -135.0, -147.0, -159.0, -167.0, -176.0, -181.0, -185.0, -186.0, -186.0, -181.0, -172.0, -162.0, -150.0, -139.0, -129.0, -118.0, -110.0, -104.0, -98.0, -93.0, -89.0, -86.0, -82.0, -78.0, -75.0, -75.0, -74.0, -72.0, -70.0, -68.0, -67.0, -66.0, -66.0, -65.0, -66.0, -66.0, -67.0, -65.0, -65.0, -64.0, -65.0, -65.0, -65.0, -68.0, -76.0, -90.0, -108.0, -125.0, -138.0, -152.0, -162.0, -169.0, -177.0, -181.0, -184.0, -185.0, -183.0, -178.0, -171.0, -160.0, -150.0, -140.0, -132.0, -122.0, -114.0, -107.0, -100.0, -96.0, -91.0, -87.0, -85.0, -82.0, -79.0, -78.0, -75.0, -75.0, -74.0, -73.0, -71.0, -71.0, -69.0, -71.0, -70.0, -71.0, -71.0, -72.0, -71.0, -72.0, -73.0, -72.0, -73.0, -73.0], [-76.0, -84.0, -97.0, -109.0, -123.0, -139.0, -152.0, -162.0, -171.0, -178.0, -182.0, -183.0, -181.0, -176.0, -170.0, -163.0, -154.0, -146.0, -134.0, -124.0, -117.0, -109.0, -104.0, -99.0, -94.0, -90.0, -88.0, -83.0, -80.0, -77.0, -75.0, -72.0, -71.0, -68.0, -68.0, -67.0, -67.0, -67.0, -67.0, -67.0, -68.0, -66.0, -67.0, -68.0, -67.0, -67.0, -66.0, -66.0, -70.0, -77.0, -89.0, -104.0, -118.0, -133.0, -143.0, -155.0, -163.0, -169.0, -175.0, -177.0, -177.0, -175.0, -172.0, -166.0, -157.0, -146.0, -136.0, -127.0, -120.0, -110.0, -104.0, -99.0, -95.0, -91.0, -87.0, -86.0, -83.0, -81.0, -79.0, -78.0, -76.0, -75.0, -75.0, -74.0, -74.0, -74.0, -72.0, -74.0, -74.0, -74.0, -75.0, -75.0, -76.0, -79.0, -79.0, -80.0, -82.0, -90.0, -101.0, -113.0], [-127.0, -137.0, -149.0, -160.0, -169.0, -177.0, -182.0, -183.0, -184.0, -179.0, -174.0, -165.0, -156.0, -146.0, -138.0, -130.0, -123.0, -115.0, -108.0, -103.0, -98.0, -95.0, -90.0, -86.0, -83.0, -83.0, -82.0, -80.0, -79.0, -77.0, -75.0, -74.0, -73.0, -73.0, -74.0, -74.0, -72.0, -71.0, -73.0, -72.0, -73.0, -73.0, -73.0, -74.0, -76.0, -80.0, -88.0, -102.0, -117.0, -131.0, -144.0, -155.0, -164.0, -172.0, -178.0, -181.0, -182.0, -182.0, -179.0, -174.0, -166.0, -155.0, -146.0, -138.0, -127.0, -118.0, -110.0, -105.0, -100.0, -96.0, -92.0, -88.0, -85.0, -81.0, -80.0, -79.0, -77.0, -75.0, -74.0, -73.0, -74.0, -72.0, -72.0, -73.0, -72.0, -72.0, -73.0, -73.0, -72.0, -73.0, -74.0, -73.0, -73.0, -76.0, -86.0, -101.0, -116.0, -129.0, -141.0, -152.0], [-162.0, -170.0, -177.0, -180.0, -180.0, -179.0, -177.0, -171.0, -164.0, -157.0, -147.0, -137.0, -128.0, -120.0, -113.0, -107.0, -102.0, -98.0, -94.0, -91.0, -89.0, -86.0, -83.0, -82.0, -80.0, -78.0, -78.0, -78.0, -77.0, -77.0, -77.0, -77.0, -76.0, -77.0, -77.0, -77.0, -77.0, -79.0, -78.0, -79.0, -80.0, -81.0, -88.0, -99.0, -114.0, -128.0, -141.0, -155.0, -164.0, -174.0, -181.0, -185.0, -188.0, -189.0, -185.0, -179.0, -170.0, -160.0, -149.0, -139.0, -130.0, -125.0, -117.0, -112.0, -106.0, -100.0, -95.0, -90.0, -87.0, -84.0, -83.0, -82.0, -79.0, -79.0, -78.0, -77.0, -76.0, -76.0, -75.0, -74.0, -73.0, -74.0, -74.0, -73.0, -74.0, -76.0, -77.0, -79.0, -80.0, -79.0, -85.0, -95.0, -110.0, -123.0, -136.0, -149.0, -159.0, -167.0, -176.0, -183.0], [-186.0, -188.0, -184.0, -178.0, -170.0, -160.0, -150.0, -142.0, -134.0, -126.0, -118.0, -111.0, -104.0, -99.0, -94.0, -91.0, -89.0, -85.0, -83.0, -80.0, -77.0, -74.0, -72.0, -71.0, -72.0, -71.0, -70.0, -70.0, -70.0, -69.0, -70.0, -71.0, -72.0, -74.0, -74.0, -75.0, -76.0, -77.0, -81.0, -90.0, -104.0, -119.0, -133.0, -146.0, -157.0, -167.0, -174.0, -180.0, -185.0, -188.0, -187.0, -183.0, -177.0, -168.0, -158.0, -149.0, -139.0, -130.0, -122.0, -114.0, -108.0, -104.0, -101.0, -97.0, -94.0, -90.0, -87.0, -85.0, -83.0, -79.0, -78.0, -76.0, -75.0, -76.0, -76.0, -76.0, -75.0, -75.0, -75.0, -74.0, -73.0, -75.0, -75.0, -75.0, -75.0, -76.0, -77.0, -81.0, -91.0, -106.0, -122.0, -134.0, -148.0, -159.0, -169.0, -177.0, -184.0, -189.0, -190.0, -190.0], [-185.0, -178.0, -167.0, -156.0, -146.0, -136.0, -127.0, -119.0, -113.0, -109.0, -103.0, -98.0, -93.0, -90.0, -87.0, -83.0, -80.0, -78.0, -76.0, -74.0, -72.0, -72.0, -73.0, -72.0, -71.0, -70.0, -70.0, -70.0, -70.0, -72.0, -72.0, -70.0, -71.0, -70.0, -70.0, -75.0, -86.0, -101.0, -117.0, -132.0, -145.0, -158.0, -168.0, -176.0, -181.0, -185.0, -186.0, -184.0, -183.0, -176.0, -167.0, -156.0, -145.0, -133.0, -122.0, -117.0, -111.0, -106.0, -102.0, -96.0, -92.0, -89.0, -85.0, -83.0, -81.0, -79.0, -78.0, -77.0, -76.0, -75.0, -75.0, -72.0, -72.0, -73.0, -73.0, -72.0, -72.0, -74.0, -74.0, -74.0, -74.0, -76.0, -75.0, -79.0, -84.0, -97.0, -112.0, -127.0, -143.0, -158.0, -168.0, -179.0, -184.0, -188.0, -191.0, -191.0, -187.0, -181.0, -172.0, -161.0], [-152.0, -141.0, -133.0, -125.0, -116.0, -108.0, -102.0, -97.0, -92.0, -89.0, -85.0, -84.0, -83.0, -79.0, -76.0, -75.0, -73.0, -73.0, -73.0, -72.0, -71.0, -71.0, -70.0, -70.0, -69.0, -69.0, -71.0, -73.0, -73.0, -74.0, -74.0, -76.0, -78.0, -87.0, -99.0, -114.0, -130.0, -145.0, -156.0, -168.0, -176.0, -184.0, -189.0, -192.0, -192.0, -190.0, -182.0, -173.0, -160.0, -150.0, -137.0, -128.0, -119.0, -112.0, -106.0, -100.0, -94.0, -88.0, -84.0, -81.0, -78.0, -75.0, -73.0, -71.0, -70.0, -70.0, -69.0, -68.0, -68.0, -68.0, -67.0, -68.0, -67.0, -65.0, -64.0, -65.0, -66.0, -67.0, -68.0, -69.0, -72.0, -80.0, -95.0, -112.0, -129.0, -144.0, -156.0, -166.0, -175.0, -181.0, -184.0, -187.0, -187.0, -183.0, -178.0, -171.0, -161.0, -152.0, -142.0, -132.0], [-125.0, -117.0, -110.0, -104.0, -98.0, -94.0, -91.0, -87.0, -84.0, -81.0, -78.0, -77.0, -75.0, -76.0, -76.0, -76.0, -76.0, -74.0, -73.0, -73.0, -73.0, -73.0, -74.0, -76.0, -75.0, -75.0, -74.0, -73.0, -74.0, -75.0, -82.0, -96.0, -112.0, -129.0, -143.0, -156.0, -167.0, -177.0, -182.0, -187.0, -190.0, -187.0, -185.0, -181.0, -171.0, -160.0, -151.0, -140.0, -131.0, -123.0, -115.0, -109.0, -103.0, -99.0, -94.0, -90.0, -85.0, -82.0, -80.0, -79.0, -77.0, -75.0, -75.0, -74.0, -74.0, -73.0, -71.0, -72.0, -72.0, -72.0, -73.0, -73.0, -74.0, -74.0, -74.0, -74.0, -73.0, -73.0, -78.0, -90.0, -105.0, -120.0, -135.0, -151.0, -162.0, -172.0, -181.0, -186.0, -189.0, -188.0, -184.0, -181.0, -172.0, -163.0, -154.0, -142.0, -132.0, -123.0, -116.0, -108.0]]\n"
          ],
          "name": "stdout"
        }
      ]
    },
    {
      "cell_type": "code",
      "metadata": {
        "id": "lpr_lAFOuscj"
      },
      "source": [
        "import pywt\n",
        "import numpy as np\n",
        "import statistics\n",
        "# import csv, io\n",
        "import Createdataset as c\n",
        "import soft\n",
        "import bwr\n",
        "from sklearn.decomposition import PCA"
      ],
      "execution_count": null,
      "outputs": []
    },
    {
      "cell_type": "code",
      "metadata": {
        "id": "KmwnOzjduscj"
      },
      "source": [
        "#Proses denoising\n",
        "data_sample_n = []\n",
        "baseline_n = []\n",
        "ppg_out_n = []\n",
        "for i in range(0,18):\n",
        "    sinyal = soft.waveletSmooth(datan[i])\n",
        "    (baseline, ppg_out) = bwr.bwr(sinyal)\n",
        "    len_sample = len(datan[i])\n",
        "\n",
        "    sampled_window = len_sample\n",
        "    sample = []\n",
        "    for j in range(sampled_window):\n",
        "        sample.append(ppg_out[j - 1])\n",
        "    data_sample_n.append(sample)\n",
        "    baseline_n.append(baseline)\n",
        "    ppg_out_n.append(ppg_out)"
      ],
      "execution_count": null,
      "outputs": []
    },
    {
      "cell_type": "code",
      "metadata": {
        "id": "tTT_aR1Kusck",
        "outputId": "8d6c31e0-12a8-4a6c-c8f7-fb058cccf70c"
      },
      "source": [
        "print(data_sample_n)"
      ],
      "execution_count": null,
      "outputs": [
        {
          "output_type": "stream",
          "text": [
            "[[-77.6879293062688, -68.35132710025908, -62.65599302725917, -52.91064906313112, -45.22522144369978, -38.86871538014341, -31.23491133827237, -24.002098058192132, -16.9942364669307, -10.394710221478746, -5.152154705752622, -1.6448403662873545, 2.488187688147889, 7.031014543305346, 10.582665557286717, 13.330322457388391, 15.878785479054471, 18.029671654731985, 19.04175608963962, 19.508745680673684, 19.858810740644273, 20.135353804651018, 20.285816757060616, 20.253218208258517, 20.086801045030157, 19.78222061539917, 19.029667923116875, 18.359275026851506, 18.010615922946428, 18.105744970374744, 17.96841562591102, 18.402625878657915, 16.739794788091302, 12.845786389857537, 10.435523793701009, 6.897209560885159, -1.8370441085179436, -16.187529880382982, -30.073043920732417, -44.47030093499143, -57.13856667102239, -66.68053221573882, -74.91673782864964, -80.10022254246766, -84.54004782887846, -88.042136119054, -88.65434057254409, -85.92055960646492, -83.08337516211913, -79.7932265220408, -72.08106059522187, -62.48524577165155, -53.227263020269945, -44.397595578050584, -35.78064934741887, -27.310875241478882, -19.594623840770936, -12.73432990904513, -4.735391940110304, 2.316937884898337, 8.407866877950482, 13.341399502785592, 19.204135671993882, 23.340467025378757, 29.65210004209557, 38.102064085080656, 38.03780182106608, 37.58997158286549, 37.130038895762425, 36.65332533140594, 36.22909531306915, 35.915494724121714, 35.3638173223015, 34.60188533817835, 33.73044433193667, 32.85529643012343, 31.416813368860446, 29.410089784449795, 26.881481851122373, 23.905751185641932, 20.82723662390356, 17.694551408517782, 14.950310195698236, 12.054944851798894, 3.8615726622135043, -10.19691335013053, -25.634297561125052, -43.51808760982516, -58.47896186958732, -69.3819874050289, -78.91726553228199, -85.90845124517429, -91.9647079714614, -97.1449018699978, -99.40769690674134, -99.81400319807355, -97.18411235078611, -91.27359350720184, -87.04501631982833, -81.98724955312647], [-52.719945213292576, -41.92523226457669, -35.532837963364614, -28.22811785315703, -21.71652420889005, -16.328080200161153, -11.026488004926435, -6.816189015995832, -2.584766867852082, 1.4743094051807475, 4.324396489791511, 5.847052918807748, 7.937931719768727, 10.460335844878188, 12.551854664350017, 14.356851112131608, 15.579689095486287, 16.064369049427356, 15.475714643893582, 14.29709389291601, 13.624971791382109, 13.608717023855235, 13.772181202669103, 14.228720397967635, 14.560403049530237, 14.702553853644389, 14.44949222618439, 14.25611598003708, 13.87575493844264, 13.348683668257848, 11.997641803440558, 10.5323200269941, 3.896319374910121, -8.365463328380187, -21.334435818318738, -38.64233678406332, -52.194349071850056, -61.358859092443836, -70.84996412984546, -78.80111076640176, -85.29689824258115, -90.53534435039214, -93.38394808994681, -93.1518948037467, -91.73525183149007, -88.75942712119182, -83.69880540533717, -75.98140198066304, -68.64485736191574, -61.66195072092147, -50.983306724516595, -39.55277165016449, -29.43101384157218, -20.856404936813774, -14.0118368815438, -8.822264788837089, -4.111880749083525, 0.06971193409016507, 5.021921357269477, 8.850960548410157, 12.708799067253281, 16.493022600753847, 22.419781554576105, 27.89167170483853, 34.85917804678469, 43.22311810169029, 42.55920438681157, 41.51417499278028, 40.447233835375485, 39.489075620079376, 38.34361911728409, 37.07868049929688, 35.79630887473458, 34.48049034309294, 32.99915453162173, 31.54523303974682, 30.190244240644915, 28.97462565769453, 27.689688344285244, 26.60272033814742, 22.46810072057184, 15.003010814017259, 3.736631946017525, -13.189772320398347, -27.720184815532164, -40.079264388111454, -53.05575714986483, -64.61109405037698, -75.55752791321592, -85.65369519595532, -92.31917315707821, -95.97124068789941, -97.9804019231577, -97.84410002226834, -93.61376913087732, -86.08973478102934, -78.25229861151732, -70.12860705197419, -63.43472942666463, -56.50065451480944], [-33.99352901535396, -27.64065626619464, -20.701719375962867, -13.923284859276976, -8.612744141341437, -6.286630024688023, -2.5261196061712496, 1.5258512688162682, 4.1510170134080795, 5.6792724409335875, 7.560740163829806, 9.410372125057464, 10.899015325753354, 12.235375741749436, 13.345587607912393, 14.889157208544873, 15.937631482028934, 16.80577888972438, 16.840078001964585, 16.68733477326633, 16.394758107601035, 16.01272928336644, 15.684967325613698, 15.214902707709058, 14.674011101297808, 14.045537663596889, 12.549449006222602, 10.806712272182338, 6.466565072499591, -0.7275234906514783, -11.474307230483873, -25.62664723057854, -40.01870897023403, -54.617862836091675, -65.7308515512961, -74.85281761242138, -83.16346783286296, -90.0278742617176, -93.70597969517947, -94.18402291515262, -93.6678198196295, -91.81353379038916, -87.76157717981853, -81.146198232857, -73.57443442967366, -64.89493473303561, -56.39901550372531, -47.66664522764786, -39.747440553957674, -33.03462557379015, -24.658902036415512, -17.679049571606484, -10.562092656375455, -3.5311627553913922, 1.3715346728241826, 5.154745053587092, 8.204243012807751, 10.38228695958638, 14.383083191852052, 17.948445043891, 20.896597378655883, 23.226889690799652, 28.109451060353322, 32.352895864037805, 38.89755728400024, 47.74728864057268, 46.67284485981213, 45.56172578723941, 44.283052571726785, 42.89483380355139, 41.4902317294641, 40.00306676027314, 38.364378446857756, 36.57063824007422, 34.4509760249329, 32.156215164244884, 29.353668702603315, 26.005932406874393, 17.89156036948151, 4.716500133917606, -8.703858956734308, -23.27501930552586, -37.958531014896124, -52.61218138854065, -64.92775308829549, -74.17790733851601, -82.70218738317757, -89.38090552922338, -94.4864580329634, -98.0782429750417, -98.37924908213121, -95.98505069980784, -90.82956092294333, -82.59632133370762, -72.1618010464931, -60.371089298664444, -49.773777305391235, -41.17179229961157, -36.90482195784065, -35.557122572700465], [-18.751731762771414, -14.16281524198196, -12.350503768219923, -6.4831373569145825, -3.3024744327490225, -1.3359966456041406, 1.530453284604988, 4.52648889044454, 6.9176254372822825, 8.837663735362241, 10.474919054468273, 11.490872623015832, 12.56020768847398, 13.659319000513918, 14.529694265432596, 15.057157264816155, 15.637961519126051, 16.22067585114982, 15.884274717915872, 15.396163882592944, 14.944329387979508, 14.566306138848617, 14.405993219420182, 14.296924473799095, 13.801189618776135, 12.867456670468755, 7.492213634143511, -2.177780765056056, -14.537715787360327, -30.617990429840503, -46.29345481154661, -60.34456913011155, -73.28600188353491, -83.53827085415504, -90.10656108990531, -94.9409126003487, -98.09976751284887, -99.76318306256378, -98.85413204708642, -95.60150806436786, -89.06373533761553, -78.9338048554615, -68.10455981142763, -55.726146045093884, -45.08214948776076, -36.97685274082278, -30.422263294762487, -25.732795716927157, -20.890428754518723, -15.800161313530381, -9.66691046979146, -4.73430377538341, 0.6171254540377618, 6.093793168539122, 10.392019791878809, 14.646742105307027, 17.254489938795942, 18.144250370514627, 21.22993079073747, 23.793662867455993, 26.041143731219748, 28.10995431557967, 32.79228373913084, 36.93336987743703, 43.462960693867615, 52.32204316485303, 51.09362480141138, 49.891757412316096, 48.329506266208725, 46.45440071299679, 44.4412391920809, 42.15133752648903, 39.3729350726032, 36.06908485606753, 30.624302399293242, 22.981253941302953, 11.245408573672961, -5.307854971529338, -20.817803519718552, -35.37680644440982, -49.51813455243135, -61.784727221208215, -72.66256848476547, -82.32352284820718, -89.50838861224804, -94.0937277437183, -96.14718219609705, -94.96401772015037, -92.16109076513047, -87.56355550323681, -79.02409930044621, -67.37439170396775, -58.231921810990315, -51.88276931119968, -44.83001706520011, -39.43320981851096, -32.704652732131564, -24.537280442831104, -20.724404203508357, -18.15751838343455], [-11.371921205674639, -2.147918209327159, 0.43182556737872346, 4.2307996765838, 6.55880066871002, 7.5629611111758095, 8.936062496554342, 10.266932025112311, 11.206505195396701, 11.953587811395082, 12.62241688968247, 13.024398626646047, 13.404670794776166, 13.76402000511149, 14.226021129090185, 14.610575036142421, 14.892899295757516, 15.050041702300533, 14.32834618084054, 13.424790616304904, 12.186415336428112, 10.620291570719672, 8.660547510463275, 5.9963792874194155, -1.98782681465903, -15.915004613104728, -30.89433880698536, -47.35317725580849, -61.77441621148225, -72.85176834871271, -83.63886193865285, -91.79153225833372, -99.11676096760826, -105.43835885213386, -105.26882947197504, -101.2704013559261, -96.58205471422247, -90.89747729180364, -82.08059645117103, -70.87437070217524, -60.02635700907102, -49.58175041348716, -39.32366504488202, -29.32648920773326, -20.90272953924199, -14.32747481379674, -9.944006987918456, -7.3706989302061885, -4.45548145268863, -1.045807446131377, 3.4379926500203197, 6.767896692514384, 10.603848277459363, 14.620560869191479, 17.562099147295854, 20.586259333319745, 22.27844160387069, 22.608222107952315, 25.474595981869598, 28.176195174255042, 30.455793392465196, 32.423013224130386, 37.23099788592597, 41.540790368758934, 48.25877727503338, 57.3328449225981, 56.0187381224012, 54.62294845112787, 53.08867911316041, 51.46725678990714, 47.34677423311368, 40.413280235244045, 28.02534566324529, 9.070391078604459, -9.764025553060435, -28.977692370663803, -45.597119592116215, -57.8181123742624, -68.23107329681687, -75.00131728514788, -81.64050088552678, -88.15685580111764, -90.25012580614225, -89.20933964279922, -86.85451154105965, -82.734670331435, -76.33666795370897, -67.61516703595646, -59.71082532623433, -52.80518283335542, -44.62861117573706, -36.685921613100916, -30.165665268452628, -25.25883023308998, -20.78256095370037, -18.0993202599778, -14.624367824697686, -10.362822674652733, -10.161422567832147, -10.84838461998008], [-2.225361107504, 6.491896703435998, 6.937528519316814, 11.736306053315715, 13.242156862360503, 12.731516216698608, 13.481767194949299, 14.475587485917202, 14.986870177709577, 15.327101049729109, 15.524369001072046, 15.317838745079271, 15.359106299128996, 15.629295365486911, 15.97621487225183, 16.298794772874373, 16.71270835632052, 17.174738790933546, 16.931165862393257, 16.685616110620927, 11.428445232137221, 0.674677046770924, -13.04527458460953, -31.409543385324213, -47.379587385974475, -60.45383203984646, -73.98718797221248, -85.42830532770574, -94.99061437301577, -102.31126712592949, -107.34419056476871, -108.90378598347675, -109.24509722210496, -108.06652791447831, -100.79987331482316, -90.21890360686379, -79.77948098519276, -69.54238135149187, -58.06585889941148, -46.46365055237098, -36.55668811939404, -28.71953619931709, -22.120034275414667, -16.736748055539863, -11.066303189753256, -4.876875940165817, -0.24642595104484144, 4.082879737819908, 6.985089669395407, 8.316898568430076, 11.878426228878084, 14.81720500664295, 18.0089052764214, 21.56313534536696, 24.18907592808158, 27.005737995113847, 28.668280518773784, 29.147049110681962, 32.273875669931485, 35.44358013833664, 37.695143655523594, 39.083720716582135, 43.019335526816064, 46.07451036409462, 51.772841351920704, 60.124351728588735, 58.27020955149409, 56.36986906555643, 49.68812551066081, 37.7509316156049, 22.864913816770652, 3.5958669650576525, -14.348161399627614, -30.558566408456684, -46.53390325787899, -60.45365930533538, -71.74860635272148, -79.76744723875476, -85.87819131074644, -89.34240409428119, -90.87186053025302, -90.52238137183703, -85.77839762445237, -77.41587154724154, -69.15733133169655, -60.95587017424873, -51.43509519006206, -41.19744035568513, -33.13008670815621, -27.53486532066485, -22.21387381146431, -18.717245124994903, -15.025485023320712, -11.04861386033403, -7.689139431489565, -5.47917145453998, -2.5786768521015944, 0.834224198343037, 0.9359258990297974, 0.7766182210416019], [7.563014317575053, 15.78369637882227, 16.835348634257258, 18.850551285961515, 19.878911509376096, 19.3691385764169, 19.579362405955848, 19.708227883260307, 19.14043517342442, 17.95194733846138, 17.278415520998166, 16.88149194384492, 16.16538906413369, 15.295382268028348, 14.825056773877378, 14.484143929379087, 12.467026305194779, 8.52961395550534, -1.3632153664382116, -17.514532205283587, -32.32406598804472, -46.481977788546715, -60.9386410504103, -74.35108329462648, -86.16808902697285, -95.81984390386734, -103.18698366890442, -107.010479573112, -108.64630370542824, -107.60636852863787, -103.4113082700753, -95.14819461240396, -87.33402029999083, -79.92652994101289, -68.59344329129786, -56.90196307842905, -46.12280525005606, -36.627892451683394, -28.056963584990072, -21.23437881518076, -14.477920230681391, -7.954878440868086, -3.51035104816377, -0.29009459272279514, 3.399994366607743, 7.545688808911862, 10.6056527547357, 13.835978267304085, 15.734628587444803, 16.259521490687064, 19.394575016127334, 22.285238627412227, 24.83763492142029, 27.111206841545254, 28.293363071927928, 29.24147901764607, 29.524273156668812, 29.190449713854406, 31.384945728971502, 33.745638969695534, 35.22048996683132, 35.799432356572396, 39.08028695407114, 41.635056126127694, 46.029241262119186, 52.21771546565549, 41.989619370965784, 24.554417947991396, 7.722425506866216, -9.715796053105848, -25.720255685621765, -38.69019957964781, -51.83706000400534, -64.0479326075995, -73.05220839507913, -78.60197352558471, -82.99116995984777, -85.67003899204808, -85.17844135034773, -81.41810500748151, -75.45494426611529, -66.95756820579767, -55.514568118585245, -42.03531255539886, -31.368862668974714, -24.231478815302623, -18.73075857767347, -16.170420963797625, -12.42584049090685, -7.367843400693289, -3.648150127226785, -1.142099110086491, 1.560576364755292, 4.102415903609298, 7.060699539947734, 9.696094115352707, 12.17559603509109, 14.427482556194988, 13.272484756335174, 11.44065753393673], [6.268961878195057, 19.652352138992228, 20.95906893093418, 22.826524200472534, 23.468268077765586, 22.728430211850224, 21.65961600691091, 19.86027258362084, 18.589149602127037, 18.022718110510823, 17.38403378124258, 16.83713024740881, 15.061286103517787, 11.844888517957727, 3.873800429667938, -9.92363360143979, -23.57526104902213, -37.97137998049392, -53.88662202013903, -69.49985514703971, -82.77870109015367, -92.89144285385285, -99.48835064472715, -101.6939372236298, -102.81851631323877, -102.52075379452093, -98.61260936264112, -90.84838204892571, -82.69872678728969, -73.90296557805276, -64.59604309469736, -54.685852880264804, -46.63628326096821, -40.84713754997034, -32.76661043585156, -25.691164682251397, -18.68702839321574, -11.695659041513636, -5.524578213928223, -0.24326053264525171, 4.605284074420908, 8.850773415635274, 11.536060436111413, 13.305462998239094, 15.367041682149548, 17.78390602593045, 19.107109796823423, 20.512645189335203, 20.568535492919708, 19.221394392958217, 20.386719750321774, 21.173203557171604, 22.530201947424786, 24.59177029566831, 26.029277421804323, 27.995246077917656, 28.985280833608016, 28.962196025617516, 31.878729285702917, 35.083324325891596, 36.14974855383204, 34.991886168922704, 34.20420584857092, 29.76672565931291, 23.34796302109679, 14.196342598099363, -3.722525907559387, -20.48385544455499, -36.69035021194668, -50.652927235202654, -61.977629971445936, -69.91673740515576, -76.33637350192654, -80.80016810240137, -81.37877125494606, -77.90261141690684, -73.31210859717618, -67.29654595012724, -58.863431102327425, -48.27864981121364, -38.915826571750344, -31.032093558957953, -22.53563254639478, -15.180229048212595, -8.02991782079657, -1.2389621706952738, 3.5553111175179737, 6.597944555386732, 8.990481603019347, 10.468152439236206, 11.157484179118555, 10.451319653813286, 10.179459956199324, 10.375413597691974, 11.064743971298071, 11.738256625287022, 12.431721148913894, 13.05804881028925, 10.713267449135827, 8.183196781943622], [6.929855862290708, 23.160987148729703, 22.73129899609461, 23.05382010983888, 23.033328514366872, 22.801080258646678, 23.125826328344615, 23.930133920059646, 22.471525883169818, 18.63328242806054, 11.281709991959303, -0.7270695504989817, -13.940397024891155, -28.939075348118095, -43.725673137601476, -57.75011902738703, -70.42329217814088, -80.791551365694, -89.5259317500238, -95.1975429240525, -99.74905806791051, -102.86409748077449, -102.41156322896812, -98.75385781990049, -92.25379308991207, -82.49733017357815, -70.54644828825218, -55.694413152931475, -43.81340434755792, -35.53254790094556, -28.792458386771628, -24.456784872020066, -19.752468111302434, -14.50629647146063, -8.669849784648832, -4.184604104490759, 0.4455044486444706, 4.8583892325622315, 8.938496881066186, 12.670857522094408, 15.679937315707832, 17.91469376031435, 18.900713486260813, 19.15236897780582, 19.89674831912299, 21.269310143699386, 21.78750249624541, 22.643334655568523, 22.4505632359144, 21.16751002845443, 22.667166761128428, 24.141116747663546, 25.221261777642383, 25.92840450260212, 25.59740417068167, 24.993638710309654, 23.837876024800252, 22.1832644028013, 22.992299983361548, 23.950469787832375, 18.684122113035144, 6.606162084375981, -4.448572643580647, -19.26012937168275, -28.97600459049727, -32.608516691677636, -46.40132649717086, -58.75222005659785, -68.49635125604479, -75.54200729060827, -78.80125125049426, -77.7834837879165, -74.95975436715555, -69.98095923740485, -61.785847434529174, -50.521013264592966, -40.795937511462625, -32.90072411805642, -25.073164056292825, -18.31975402266697, -11.767078661249641, -5.470176835188738, -0.15737414669456484, 3.381938740920546, 7.199519754164356, 11.027360800520043, 13.460038409990815, 15.066160075743625, 15.93644946381211, 15.945387657411018, 16.085701998407913, 15.632714970511458, 15.186427639697015, 14.839979900072393, 15.242366825852642, 15.609762637774637, 15.989953269011494, 16.322378823649856, 13.432521359203747, 10.152824761435383], [-17.229390410582624, 49.190527697566566, 49.32484934960273, 49.70024418197636, 48.77066243016249, 46.421161230186456, 43.38224548793286, 39.24000059041012, 28.914049755117162, 11.843188058219255, -4.80917052471284, -22.10185613534911, -37.771399359836494, -50.19693514657041, -60.68011066441531, -67.88341759876296, -74.37807320265077, -79.94931993701024, -83.50871381824008, -85.3563437474257, -83.54252761514459, -77.74766064775744, -69.11290836880003, -57.08643640574999, -47.066265021366775, -39.591504681779284, -31.700842962687673, -24.77196664441894, -17.736262335555423, -10.487411664723481, -4.027294639766495, 1.9862891470358193, 6.177368235567542, 8.295302935417254, 9.58994671325378, 9.218037615452445, 10.200290685087097, 12.799840359288368, 15.226164661816583, 18.23331423559675, 19.707472962757322, 19.378013985776008, 18.80003894534528, 17.535537218416636, 16.74711013234348, 16.704255743236146, 16.29824306668266, 16.02295187498258, 15.391382323000968, 14.308415058233777, 13.796822121250585, 13.3245148504746, 12.372719377396265, 10.962012191645897, 9.155173482938082, 6.9739225257075645, 0.22945310744619007, -11.506240966005862, -25.90051680208107, -44.561528227910784, -59.70008124368246, -70.7050718899051, -81.93096053936856, -91.91728258153168, -100.35114136553678, -107.4579515140232, -113.47508302339511, -116.67896468795094, -116.8067852283125, -113.27644436563938, -105.86302049681065, -94.17469453160156, -84.12273898068389, -75.9947722281185, -67.02440844084666, -58.617413069946934, -50.21032333948736, -41.80798511572853, -35.00471409474875, -29.725796087359356, -25.047149408540108, -21.30665333199012, -18.738425449985492, -17.765522991689096, -16.257591325346354, -14.223211452659392, -12.93533161953058, -11.777630828536083, -11.361722697472658, -11.784614260298994, -11.900707674958568, -12.219964865562659, -12.831200071749052, -13.625888993456812, -14.129022060780486, -14.83078708238618, -14.98527439541408, -14.553164688091172, -15.614075328456181, -16.461936339595354], [-23.304070296164426, 44.0688827020731, 44.08860043078565, 43.79361188646851, 39.560486860354146, 30.81589176487968, 19.13575501023513, 3.3484477166244204, -11.046631092172987, -23.737609552517668, -37.52438207392265, -51.058420333744536, -62.28165649338477, -70.97819783004829, -76.84406151914172, -79.12509656910245, -80.10200341509133, -79.4766255425875, -75.3314114966033, -67.77755133975924, -59.45337859682354, -50.16746435729894, -39.93620085128231, -29.444880791675445, -20.04884269380227, -12.266709347609591, -6.304161715559502, -2.7740084473767865, 1.7522939123827683, 7.171818152609461, 10.821517396692158, 13.452460720868146, 15.547681994482318, 16.804828667125577, 17.802091945256848, 18.133651572118637, 18.666901385355004, 19.502827090512923, 20.25673313791623, 21.150292524096315, 21.52771021160939, 21.35208472124225, 21.056222301898643, 20.605883447463654, 20.161935671939105, 19.816487301812586, 19.273116802676952, 18.74699050247459, 18.129061171975025, 17.423756727122964, 17.2437293039999, 17.160000765486302, 12.291428446861843, 2.1587706373566533, -11.145549457413935, -28.89413734471836, -44.7897955132356, -58.37286587127596, -71.62882119806848, -83.224098739037, -93.24801676330168, -101.39315373305635, -106.2804599447677, -108.11454705910998, -107.7111161896279, -104.76472085647926, -100.14809364975582, -92.27635236572198, -84.39212463001962, -76.5107199611155, -68.16049331883318, -60.256607710176866, -52.21197221131396, -44.3488757023362, -38.01308723098754, -33.28805597507217, -28.49693063220066, -23.93206327901538, -20.957598326742286, -19.264215467741238, -17.770954013301434, -16.61463051348735, -15.853207377773899, -15.726837981642213, -15.4164380965355, -14.901586150634543, -14.56846265236802, -14.050883356893479, -14.202731591458758, -15.038612151243399, -15.451552022832765, -15.992343520340924, -16.864795166532836, -18.001636915148254, -18.901886140627326, -20.11632355551683, -20.61140402992052, -20.34631858637548, -21.620978375356337, -22.655911432094733], [-80.91677202778646, 42.42444565705891, 36.45044321999994, 20.991447568011125, 8.38659103214809, -4.589434545810818, -19.310063091394113, -32.95169487814434, -45.471551450382435, -55.8223774623488, -62.84967661635943, -66.21415981095384, -68.56767231625399, -69.50695935896435, -65.99379417296292, -58.88215838328934, -51.1212399505161, -42.50475800743639, -33.64766719375403, -23.246914342587132, -14.925469633265806, -8.903321196417593, -3.407475241673069, -0.12123706128505773, 4.270361826704459, 9.761525612836977, 11.569778677298046, 11.9886511518217, 13.54162658198399, 16.041543587174075, 16.317247878319705, 17.24193280726901, 15.075549983854174, 9.704901186501203, 11.352701876500078, 12.358177247040416, 13.515298264792648, 14.98137678475588, 16.5106840241517, 17.938869462553313, 19.360830764850633, 20.710345625004138, 20.786046162907752, 20.672670680843908, 21.184328746473597, 22.421951381116727, 22.56709837407284, 23.348437881135823, 20.05679459961891, 12.390834091501915, 6.878036959423824, -2.229485275006809, -12.270893423878576, -23.421554599484693, -35.20819718909726, -45.34685994925556, -55.90690890241274, -65.97060204733023, -68.84658501486425, -68.37811243443657, -68.14699654575966, -67.81826651515158, -59.68230632467808, -49.83285064816653, -33.86903087855055, -11.526355621570787, -4.098552985055392, 5.6594736180393, 12.966796816460217, 17.459532486845745, 21.10145495780533, 22.783723988859705, 24.79694259273016, 27.23401024039127, 28.51415815150837, 28.424604100340872, 28.548729855469887, 28.63662391779188, 28.913580200040087, 28.80005860446137, 28.741101642076856, 28.67179325419542, 25.669214710016007, 22.329149283275598, 18.77290465636669, 15.097560071380428, 11.963364462222572, 8.597629565839085, 5.867022719533068, 3.77793646400319, -0.8839236515324131, -5.643848616473662, -10.332652149738571, -14.975814696051707, -22.45813701471176, -29.58986590061032, -39.87594250970872, -53.29613762894632, -60.202719188510216, -70.82618342523438], [-84.43729945562401, -16.980785518732347, -25.159875564105874, -39.649817878544866, -50.10508072870903, -58.07506872526149, -65.76623803331495, -70.34097478501994, -73.2726690836553, -73.79262539764055, -70.46034984860194, -63.08537522863011, -56.00190295945029, -49.08359197137088, -40.74116912613218, -32.09262607185654, -23.779250894281105, -16.025355148430904, -9.506354633462692, -4.189755853568101, 1.250212433215978, 6.675480662839064, 11.070497431890885, 14.45488727853973, 17.292759213605336, 19.37897239141617, 20.018767233671213, 19.576978284561775, 19.96176469004662, 21.283267676094965, 22.071817092239144, 23.334930881411793, 23.280493334099617, 21.789075074437307, 21.899640617550077, 21.717376621687805, 21.737166861298917, 22.12123887665068, 22.549367442834978, 23.055967708557944, 23.475521693776386, 23.75553208139675, 23.666130567539426, 23.530983042505753, 21.802373040554144, 18.34877660929716, 12.222993187220482, 3.3764091419122764, -8.949359672319659, -25.23412666116664, -38.84021567590747, -51.29519143943895, -62.63580432197054, -71.54811817228546, -78.47617979817161, -82.15952778674833, -85.63176999146137, -88.65255891231372, -86.9453216493473, -82.30193567703789, -76.5762080414085, -69.43389659629327, -58.767814253644275, -46.801682852403445, -33.97708689679099, -20.619899813472728, -13.322465961495368, -6.860877009669096, -1.2793335321716768, 3.2434248862263786, 6.625326277991661, 8.642910082627992, 10.630385473639166, 12.578093428746726, 13.420539824095059, 13.587712750393479, 13.913607803013633, 14.391232683991205, 14.602024553062193, 14.985712753958722, 14.308280545536633, 12.531940461396061, 11.205391116607075, 9.402421489581869, 8.127309454869263, 7.537150432613629, 6.790564177594447, 6.4029835180867565, 5.389442283133306, 3.669812565519379, 2.7339958901666392, 1.761757624394562, 0.31825687179114936, -1.5507803955694897, -7.167435004070839, -17.87653420062408, -29.594400807459607, -43.43500247756401, -58.94097768696233, -72.92503932195548], [-111.16808372082536, -52.25569958517546, -58.174204730486764, -66.91482190837039, -70.43446739339302, -68.36474522322402, -67.38887621309351, -64.8962793530751, -60.63517003926552, -54.95779392796638, -46.81922873707495, -36.242324780532655, -27.420162800693063, -20.49462706664933, -13.2066014115224, -6.737527278496046, -0.6402813902317916, 5.114111588269424, 8.907489595583883, 11.151630109972018, 13.901634415420077, 17.051911591902325, 19.574660424808798, 21.71814597561466, 23.307457610217696, 24.201867851395917, 24.249307594509105, 23.765071209553682, 23.52158816047435, 23.633465956224953, 23.139283502998424, 22.81473031301809, 21.80088790187861, 20.07858675585676, 20.136935388732198, 20.226430217860084, 19.991903120313438, 19.463017495607403, 18.929669607131444, 18.176641934940108, 17.03389508892279, 15.47300969070038, 12.038418071658896, 6.955343857146801, -2.345772171417977, -16.506460742432125, -30.748869153298614, -45.080164413237554, -58.91235477068773, -70.9857308805415, -79.71552220250084, -85.88648567610176, -90.460470760107, -93.11160967381056, -92.6517668781067, -88.40117108411859, -82.91879669189916, -75.84033309997037, -64.0617578227916, -49.41820382782804, -38.12830463906593, -30.633995853162787, -22.21265166860158, -16.617300594588528, -7.656074180542021, 4.878401419174423, 9.479094026365232, 13.359846213569398, 16.58400272087168, 18.682059988698313, 20.178797889925917, 20.851285663841637, 21.26276673424904, 21.481577044214035, 20.833322251595135, 19.617240170783077, 18.69279944603555, 18.09424538756842, 17.309645206200315, 16.79496193232312, 15.793110266862016, 14.300114096283167, 13.65756671960392, 13.068095754925025, 11.793338462640165, 9.828672227678425, 7.283686817067505, 4.197566130927939, 1.1350934638122396, -1.8366528005256413, -4.608747116976872, -8.113527988972933, -17.354059390089148, -33.19894983814211, -47.877363709245444, -63.40584767991358, -76.45384547378615, -85.52300004270066, -96.0613825135653, -104.2282591425831], [-117.81839317228187, -82.15403509086669, -81.76679593369201, -77.86280098786042, -73.1474060820542, -65.9571215869393, -57.65952535164429, -47.98003402583015, -39.03293559712354, -31.19556434166165, -23.188900514673165, -15.814877857774036, -8.851902771803978, -2.3635662125085446, 3.0206401577264614, 7.048006121980762, 11.052889431391606, 14.882094873235602, 17.120329972033275, 18.458210337113897, 20.181548438352166, 22.299032423076838, 24.40981517412945, 26.662802490118423, 27.939560145674903, 28.13099173586201, 27.84777174132475, 27.296388330994787, 26.803233140622268, 26.576886694580054, 25.723104693995438, 25.030382713712953, 23.438299905771615, 20.92193522250919, 20.29419278609764, 19.524151135204193, 18.23594348855191, 16.43951320908907, 14.082712334249507, 10.873434984447144, 2.7936208451994418, -10.717862862032987, -24.777990768172614, -39.83264091854872, -53.154886020610434, -63.48251421868082, -73.06019128184214, -79.9935953037527, -86.72509940550661, -93.1218258364218, -94.45686883987977, -92.85893882122473, -89.12538156145669, -82.79685100723316, -74.2954333002034, -62.949841819094615, -53.094878843656545, -45.01526373162059, -34.388125455767764, -24.0314334786554, -15.197089490730974, -8.013101149374535, -0.6629212980540728, 4.021498993835408, 11.459240989446045, 21.55988850994396, 23.176704381558494, 24.174414080649882, 25.220310779162844, 26.170234920974764, 27.126739945370687, 28.16605446400729, 28.348507924417248, 27.654878009356224, 26.45478036360801, 24.69815266430855, 23.304671707315407, 22.404341333524442, 21.186343146883516, 20.133043928874798, 18.661305310497397, 16.720288940592923, 15.580236258568618, 14.454303114616152, 13.020257338730175, 11.301226847547213, 9.195302031705864, 6.855047279365621, 0.23954635854857997, -11.051950957511792, -24.579159540411965, -42.13038640464862, -56.63900238766901, -69.14979536480213, -81.67508178189397, -93.9962849407191, -103.03062551344081, -108.78386262490744, -114.30421544529435, -116.3086522108826], [-92.0253256683518, -83.77756572467196, -79.12606685809264, -65.92113210743378, -56.790551455169464, -48.533923291180926, -39.16295227616072, -30.76755322251853, -23.07337472728858, -16.54868219130877, -10.83435170941793, -6.333367276725625, -1.6853219725516482, 3.1319893141210855, 7.298650172635874, 10.908338378436198, 14.147555081557798, 16.89694225930323, 18.6140931971412, 19.858995752993522, 20.97782640890395, 22.041230146734875, 23.02478051923282, 23.85703934622434, 24.409967253888098, 24.66320948616685, 24.15386128048229, 23.357296711484466, 22.766343856928174, 22.44980076759552, 21.484338136940323, 20.713203983897188, 19.30115295354301, 17.248355746173488, 17.473269734258707, 17.79322548078777, 13.154795864974659, 3.0803468104234355, -9.88072029115041, -27.362040567605277, -41.56282326807546, -51.88092551372932, -64.00739961421296, -75.49593915078162, -84.43071571448111, -90.91146336246463, -94.90369339293676, -95.07153787009072, -94.27114112505188, -92.16824824095376, -84.2351883531823, -72.89649416117439, -61.76721385768204, -50.84329560959688, -40.0470258583308, -29.628067751890413, -21.586948793025655, -16.388715904775466, -9.296611739615784, -2.803091657023529, 2.9592145916808192, 8.31941986437971, 15.428154413521113, 21.785257841122657, 29.235498569174183, 37.67952647117038, 37.485389540686015, 36.59056394512194, 35.96447829191696, 35.77473347964957, 35.44374008766064, 35.20332476476514, 34.564484198254135, 33.46662285440182, 32.20772139991881, 30.841896520550392, 29.364047860176683, 27.846080036040064, 26.007412704025086, 24.098926180665003, 21.974317479065235, 19.641515862982473, 17.970570653138182, 16.272939797850285, 10.992683047385924, 1.7677110577386372, -10.030641530789083, -25.218939476333745, -41.04682613994804, -57.37322658750115, -72.55315380535328, -86.29128245737981, -97.52565402607573, -105.36355585315403, -110.31615335165723, -112.50228891612443, -111.56005927180088, -107.45584780573901, -104.01807554611597, -98.77901226777566], [-61.92632294580119, -57.56572602295901, -48.910819041404835, -39.79306544804632, -31.289923409250463, -24.58346093681324, -17.50383937668522, -11.804941244706256, -6.337690818325413, -1.4397750271253216, 1.969312319684903, 3.683062752489647, 6.284829630699889, 9.683385225425639, 12.571155390175193, 15.26974857527074, 17.31261018125855, 18.502829655747348, 18.75170632742659, 18.479078266401842, 18.48338084301271, 18.91958049191723, 19.42187793415401, 20.041116757760463, 20.329634296704242, 20.21375298187678, 19.465464341896507, 18.497463642725364, 17.52514409305354, 16.610602044487067, 14.85552713419132, 13.056761875298264, 9.161997454602755, 3.019692094201446, -4.391574474062423, -15.9947333699903, -28.945079856966984, -43.858489111920704, -57.329544727037785, -68.80442057867559, -79.70386564152888, -88.89159606783355, -96.28817303011715, -101.00921692790222, -103.48061594620616, -103.2952949541457, -100.2447819120163, -93.37989166533998, -85.31228903714015, -75.83762301525732, -62.93204239947325, -49.41386875465665, -37.09084476733953, -26.683593814918524, -18.62222614658576, -13.090961157756738, -7.066446197272782, -0.6418744430637986, 6.129118065302791, 11.783239685877234, 16.95494918217284, 21.33352934105355, 27.491134617905416, 32.73586694872566, 39.42363111553412, 47.51219607374324, 46.548906084473316, 44.967441794014675, 43.715162735156866, 42.92827125286219, 42.12107998187933, 41.51674813012444, 40.81607921961769, 39.99720034583669, 39.269284133746396, 38.74877410156968, 37.46894079467198, 35.4158494792116, 32.831334665412925, 29.69948547204099, 25.449188690531884, 20.036046230990735, 10.155257618081905, -5.458526814069046, -21.552566520361523, -39.08855272686034, -55.03969795386847, -67.95305561367503, -80.56919866572102, -91.57985495444014, -98.78895038251184, -102.60276945436846, -105.40159634087465, -106.84156739245029, -104.40011493052367, -99.17864051237851, -92.02180705174845, -82.75730947907194, -75.57811647618922, -68.41096741620343], [-36.15031729704242, -33.87700645121038, -28.790832030484978, -20.256323544296293, -14.439592395224707, -10.717358283425156, -6.187704486860497, -2.4291217072451587, 1.352369349737856, 5.170064852974818, 7.88585187468415, 9.362844319130545, 10.943669074721413, 12.40736560544326, 13.17393911055332, 13.1996291020032, 13.691802808804027, 14.619729306184695, 14.725452019733837, 14.923383222442823, 14.84224600217425, 14.464541931734388, 14.358939815207691, 14.243668513041769, 14.46660222302856, 15.104625662891394, 15.229439899808256, 15.536888886051798, 14.856042415474064, 13.065064528379764, 8.397424514096997, 1.1584835627360235, -11.52471459050227, -30.43551776164547, -45.57037480902082, -59.781043550086906, -73.15794411874857, -84.02389244333466, -91.71230465245101, -95.47535258441917, -98.73762268224537, -101.11787698448252, -100.27685740165079, -96.020504524786, -90.45778391762848, -83.16194984439753, -73.87334427805544, -62.05159508770592, -52.43054120225008, -45.25698156587811, -35.641554308907615, -27.229660576799702, -18.688935564900788, -10.05430789890282, -3.7287979211680806, 1.227457969407439, 5.5217744608584525, 8.92651654270972, 13.783202747421683, 17.971047970685845, 21.558549614457775, 24.51668567625083, 29.708766468968946, 34.14973333991756, 40.509531649286075, 48.761084684187594, 47.39284323528922, 45.72975116490909, 44.22464018914209, 42.9875010834681, 41.79679276498992, 40.74724488299924, 39.49565065756627, 38.01579834331234, 36.41725519959782, 34.79302811039692, 32.96514035905862, 30.95770772206788, 26.852975636256787, 20.664522614536708, 9.549331681489875, -7.36037597358397, -23.84284438071144, -41.31970062999733, -57.068903154305715, -69.75897631432792, -81.07763706066964, -89.45558231750641, -96.61601478756538, -102.29944972348925, -103.34592864250632, -100.39790579565751, -96.56349453021264, -91.48008998468654, -82.54254867744157, -71.08456882609316, -60.22241704854102, -50.11923473998911, -43.81795575494223, -39.85429764697979]]\n"
          ],
          "name": "stdout"
        }
      ]
    },
    {
      "cell_type": "code",
      "metadata": {
        "id": "s2rXgiMUusck"
      },
      "source": [
        "# event sinyal af per sinyal\n",
        "r_peaks_n = []\n",
        "list_upper_n = []\n",
        "for h in range(0,len(data_sample_n)):\n",
        "  m = np.max(data_sample_n[h])\n",
        "  R = 0.2 * m\n",
        "  list_upper = []\n",
        "  r_peaks = []\n",
        "  for i in range(len(data_sample_n[h])-1):\n",
        "    if (data_sample_n[h][i] > R):\n",
        "      list_upper.append(data_sample_n[h][i])\n",
        "      if (data_sample_n[h][i + 1] < R):\n",
        "          r_peak = np.max(list_upper)\n",
        "          r_in = data_sample_n[h].index(r_peak)\n",
        "          r_peaks.append([r_in, r_peak])\n",
        "          list_upper = []\n",
        "\n",
        "  r_peaks_n.append(r_peaks)"
      ],
      "execution_count": null,
      "outputs": []
    },
    {
      "cell_type": "code",
      "metadata": {
        "id": "VLc9HSXPuscl",
        "outputId": "470f5e5d-9336-4075-c59d-6614325a2afe"
      },
      "source": [
        "print(r_peaks_n)"
      ],
      "execution_count": null,
      "outputs": [
        {
          "output_type": "stream",
          "text": [
            "[[[22, 20.285816757060616], [65, 38.102064085080656]], [[17, 16.064369049427356], [65, 43.22311810169029]], [[18, 16.840078001964585], [65, 47.74728864057268]], [[17, 16.22067585114982], [65, 52.32204316485303]], [[17, 15.050041702300533], [65, 57.3328449225981]], [[17, 17.174738790933546], [65, 60.124351728588735]], [[4, 19.878911509376096], [65, 52.21771546565549]], [[4, 23.468268077765586], [60, 36.14974855383204]], [[7, 23.930133920059646], [53, 25.92840450260212]], [[3, 49.70024418197636], [40, 19.707472962757322]], [[2, 44.08860043078565], [40, 21.52771021160939]], [[1, 42.42444565705891], [47, 23.348437881135823], [78, 28.913580200040087]], [[41, 23.75553208139675], [79, 14.985712753958722]], [[26, 24.249307594509105], [73, 21.481577044214035]], [[25, 28.13099173586201], [72, 28.348507924417248]], [[25, 24.66320948616685], [65, 37.67952647117038]], [[24, 20.329634296704242], [65, 47.51219607374324]], [[27, 15.536888886051798], [65, 48.761084684187594]]]\n"
          ],
          "name": "stdout"
        }
      ]
    },
    {
      "cell_type": "code",
      "metadata": {
        "id": "ugmU3Qubuscl"
      },
      "source": [
        "#interval per sinyal tiap event af\n",
        "r_intervals_n = []\n",
        "for h in range(0,len(r_peaks_n)):\n",
        "  r_intervals = []\n",
        "  for i in range(len(r_peaks_n[h]) - 1):\n",
        "    r1 = r_peaks_n[h][i][0]\n",
        "    r2 = r_peaks_n[h][i + 1][0]\n",
        "    rr = r2 - r1\n",
        "    r_intervals.append(rr)\n",
        "\n",
        "  r_intervals_n.append(r_intervals)"
      ],
      "execution_count": null,
      "outputs": []
    },
    {
      "cell_type": "code",
      "metadata": {
        "id": "qn2BKWpJuscl",
        "outputId": "9f3e4a92-928f-4ebb-c68d-878106940af5"
      },
      "source": [
        "print(r_intervals_n)"
      ],
      "execution_count": null,
      "outputs": [
        {
          "output_type": "stream",
          "text": [
            "[[24, 69], [21], [18], [15], [13], [10], [], [], [], [], [], [], [], [], [22, 73], [21], [18], [16]]\n"
          ],
          "name": "stdout"
        }
      ]
    },
    {
      "cell_type": "code",
      "metadata": {
        "id": "L0GtgZUquscm"
      },
      "source": [
        "ca_n = []\n",
        "for i in range(0,len(ppg_out_n)):\n",
        "  nlevelmax = pywt.dwt_max_level(len(ppg_out_n[i]), 'sym3')\n",
        "  coeff = pywt.wavedec(ppg_out_n[i], 'sym3', level=6)\n",
        "  ca_n.append(coeff[0])"
      ],
      "execution_count": null,
      "outputs": []
    },
    {
      "cell_type": "code",
      "metadata": {
        "id": "H1-Cknoauscm",
        "outputId": "14a0d28b-27bd-49f5-c83c-1be1771fc951"
      },
      "source": [
        "len(ca_n)"
      ],
      "execution_count": null,
      "outputs": [
        {
          "output_type": "execute_result",
          "data": {
            "text/plain": [
              "18"
            ]
          },
          "metadata": {
            "tags": []
          },
          "execution_count": 232
        }
      ]
    },
    {
      "cell_type": "code",
      "metadata": {
        "id": "Om_d0X61uscm"
      },
      "source": [
        "hasil_n = []\n",
        "for i in range(0,len(ca_n)):\n",
        "  (min, max, mean, med, std) = c.Createdataset(ca_n[i])\n",
        "  hasil = [min, max, mean, med, std, \"\"]\n",
        "  hasil_n.append(hasil)"
      ],
      "execution_count": null,
      "outputs": []
    },
    {
      "cell_type": "code",
      "metadata": {
        "id": "JvvlOAtmuscn",
        "outputId": "66c3e098-6fcd-4756-abc2-644266589152"
      },
      "source": [
        "result_n = pd.DataFrame(hasil_n, columns = ['min','max','mean','med','std','label'])\n",
        "result_n"
      ],
      "execution_count": null,
      "outputs": [
        {
          "output_type": "execute_result",
          "data": {
            "text/html": [
              "<div>\n",
              "<style scoped>\n",
              "    .dataframe tbody tr th:only-of-type {\n",
              "        vertical-align: middle;\n",
              "    }\n",
              "\n",
              "    .dataframe tbody tr th {\n",
              "        vertical-align: top;\n",
              "    }\n",
              "\n",
              "    .dataframe thead th {\n",
              "        text-align: right;\n",
              "    }\n",
              "</style>\n",
              "<table border=\"1\" class=\"dataframe\">\n",
              "  <thead>\n",
              "    <tr style=\"text-align: right;\">\n",
              "      <th></th>\n",
              "      <th>min</th>\n",
              "      <th>max</th>\n",
              "      <th>mean</th>\n",
              "      <th>med</th>\n",
              "      <th>std</th>\n",
              "      <th>label</th>\n",
              "    </tr>\n",
              "  </thead>\n",
              "  <tbody>\n",
              "    <tr>\n",
              "      <th>0</th>\n",
              "      <td>-0.854141</td>\n",
              "      <td>-0.205031</td>\n",
              "      <td>-0.431257</td>\n",
              "      <td>-0.291098</td>\n",
              "      <td>0.263837</td>\n",
              "      <td>N</td>\n",
              "    </tr>\n",
              "    <tr>\n",
              "      <th>1</th>\n",
              "      <td>-0.935841</td>\n",
              "      <td>-0.201251</td>\n",
              "      <td>-0.457331</td>\n",
              "      <td>-0.299173</td>\n",
              "      <td>0.298529</td>\n",
              "      <td>N</td>\n",
              "    </tr>\n",
              "    <tr>\n",
              "      <th>2</th>\n",
              "      <td>-0.985227</td>\n",
              "      <td>-0.247203</td>\n",
              "      <td>-0.504422</td>\n",
              "      <td>-0.345064</td>\n",
              "      <td>0.299977</td>\n",
              "      <td>N</td>\n",
              "    </tr>\n",
              "    <tr>\n",
              "      <th>3</th>\n",
              "      <td>-1.076965</td>\n",
              "      <td>-0.276733</td>\n",
              "      <td>-0.555677</td>\n",
              "      <td>-0.382976</td>\n",
              "      <td>0.325253</td>\n",
              "      <td>N</td>\n",
              "    </tr>\n",
              "    <tr>\n",
              "      <th>4</th>\n",
              "      <td>-1.178858</td>\n",
              "      <td>-0.266919</td>\n",
              "      <td>-0.584753</td>\n",
              "      <td>-0.387740</td>\n",
              "      <td>0.370675</td>\n",
              "      <td>N</td>\n",
              "    </tr>\n",
              "    <tr>\n",
              "      <th>5</th>\n",
              "      <td>-1.204988</td>\n",
              "      <td>-0.344583</td>\n",
              "      <td>-0.644506</td>\n",
              "      <td>-0.458868</td>\n",
              "      <td>0.349702</td>\n",
              "      <td>N</td>\n",
              "    </tr>\n",
              "    <tr>\n",
              "      <th>6</th>\n",
              "      <td>-1.234019</td>\n",
              "      <td>-0.359042</td>\n",
              "      <td>-0.664064</td>\n",
              "      <td>-0.474846</td>\n",
              "      <td>0.355662</td>\n",
              "      <td>N</td>\n",
              "    </tr>\n",
              "    <tr>\n",
              "      <th>7</th>\n",
              "      <td>-1.245315</td>\n",
              "      <td>-0.385040</td>\n",
              "      <td>-0.684897</td>\n",
              "      <td>-0.498874</td>\n",
              "      <td>0.349699</td>\n",
              "      <td>N</td>\n",
              "    </tr>\n",
              "    <tr>\n",
              "      <th>8</th>\n",
              "      <td>-1.263802</td>\n",
              "      <td>-0.385874</td>\n",
              "      <td>-0.691914</td>\n",
              "      <td>-0.502189</td>\n",
              "      <td>0.356851</td>\n",
              "      <td>N</td>\n",
              "    </tr>\n",
              "    <tr>\n",
              "      <th>9</th>\n",
              "      <td>-1.242340</td>\n",
              "      <td>-0.399670</td>\n",
              "      <td>-0.693406</td>\n",
              "      <td>-0.511452</td>\n",
              "      <td>0.342507</td>\n",
              "      <td>N</td>\n",
              "    </tr>\n",
              "    <tr>\n",
              "      <th>10</th>\n",
              "      <td>-1.270188</td>\n",
              "      <td>-0.382378</td>\n",
              "      <td>-0.691824</td>\n",
              "      <td>-0.500189</td>\n",
              "      <td>0.360851</td>\n",
              "      <td>N</td>\n",
              "    </tr>\n",
              "    <tr>\n",
              "      <th>11</th>\n",
              "      <td>-1.232610</td>\n",
              "      <td>-0.441525</td>\n",
              "      <td>-0.717298</td>\n",
              "      <td>-0.546774</td>\n",
              "      <td>0.321500</td>\n",
              "      <td>N</td>\n",
              "    </tr>\n",
              "    <tr>\n",
              "      <th>12</th>\n",
              "      <td>-1.242340</td>\n",
              "      <td>-0.399670</td>\n",
              "      <td>-0.693406</td>\n",
              "      <td>-0.511452</td>\n",
              "      <td>0.342507</td>\n",
              "      <td>N</td>\n",
              "    </tr>\n",
              "    <tr>\n",
              "      <th>13</th>\n",
              "      <td>-1.183859</td>\n",
              "      <td>-0.426526</td>\n",
              "      <td>-0.690513</td>\n",
              "      <td>-0.526885</td>\n",
              "      <td>0.307831</td>\n",
              "      <td>N</td>\n",
              "    </tr>\n",
              "    <tr>\n",
              "      <th>14</th>\n",
              "      <td>-1.127476</td>\n",
              "      <td>-0.426919</td>\n",
              "      <td>-0.671118</td>\n",
              "      <td>-0.520074</td>\n",
              "      <td>0.284725</td>\n",
              "      <td>N</td>\n",
              "    </tr>\n",
              "    <tr>\n",
              "      <th>15</th>\n",
              "      <td>-0.774164</td>\n",
              "      <td>-0.548092</td>\n",
              "      <td>-0.626853</td>\n",
              "      <td>-0.577000</td>\n",
              "      <td>0.092007</td>\n",
              "      <td>N</td>\n",
              "    </tr>\n",
              "    <tr>\n",
              "      <th>16</th>\n",
              "      <td>-0.609044</td>\n",
              "      <td>-0.310542</td>\n",
              "      <td>-0.505178</td>\n",
              "      <td>-0.570277</td>\n",
              "      <td>0.121401</td>\n",
              "      <td>N</td>\n",
              "    </tr>\n",
              "    <tr>\n",
              "      <th>17</th>\n",
              "      <td>-0.652286</td>\n",
              "      <td>0.650429</td>\n",
              "      <td>-0.198088</td>\n",
              "      <td>-0.476581</td>\n",
              "      <td>0.529222</td>\n",
              "      <td>N</td>\n",
              "    </tr>\n",
              "  </tbody>\n",
              "</table>\n",
              "</div>"
            ],
            "text/plain": [
              "         min       max      mean       med       std label\n",
              "0  -0.854141 -0.205031 -0.431257 -0.291098  0.263837     N\n",
              "1  -0.935841 -0.201251 -0.457331 -0.299173  0.298529     N\n",
              "2  -0.985227 -0.247203 -0.504422 -0.345064  0.299977     N\n",
              "3  -1.076965 -0.276733 -0.555677 -0.382976  0.325253     N\n",
              "4  -1.178858 -0.266919 -0.584753 -0.387740  0.370675     N\n",
              "5  -1.204988 -0.344583 -0.644506 -0.458868  0.349702     N\n",
              "6  -1.234019 -0.359042 -0.664064 -0.474846  0.355662     N\n",
              "7  -1.245315 -0.385040 -0.684897 -0.498874  0.349699     N\n",
              "8  -1.263802 -0.385874 -0.691914 -0.502189  0.356851     N\n",
              "9  -1.242340 -0.399670 -0.693406 -0.511452  0.342507     N\n",
              "10 -1.270188 -0.382378 -0.691824 -0.500189  0.360851     N\n",
              "11 -1.232610 -0.441525 -0.717298 -0.546774  0.321500     N\n",
              "12 -1.242340 -0.399670 -0.693406 -0.511452  0.342507     N\n",
              "13 -1.183859 -0.426526 -0.690513 -0.526885  0.307831     N\n",
              "14 -1.127476 -0.426919 -0.671118 -0.520074  0.284725     N\n",
              "15 -0.774164 -0.548092 -0.626853 -0.577000  0.092007     N\n",
              "16 -0.609044 -0.310542 -0.505178 -0.570277  0.121401     N\n",
              "17 -0.652286  0.650429 -0.198088 -0.476581  0.529222     N"
            ]
          },
          "metadata": {
            "tags": []
          },
          "execution_count": 234
        }
      ]
    },
    {
      "cell_type": "code",
      "metadata": {
        "id": "GFym-9Vxuscn"
      },
      "source": [
        "dfpvc = pd.read_csv('clean/AF2_clean/AF2_2clean.csv')"
      ],
      "execution_count": null,
      "outputs": []
    },
    {
      "cell_type": "code",
      "metadata": {
        "id": "GqhAlkzMuscn",
        "outputId": "96cdfc2e-0d82-4aaf-baf9-6a3aad665f6a"
      },
      "source": [
        "dfpvc.drop(['Unnamed: 0', 'Time'], axis=1, inplace=True)\n",
        "dfpvc"
      ],
      "execution_count": null,
      "outputs": [
        {
          "output_type": "execute_result",
          "data": {
            "text/html": [
              "<div>\n",
              "<style scoped>\n",
              "    .dataframe tbody tr th:only-of-type {\n",
              "        vertical-align: middle;\n",
              "    }\n",
              "\n",
              "    .dataframe tbody tr th {\n",
              "        vertical-align: top;\n",
              "    }\n",
              "\n",
              "    .dataframe thead th {\n",
              "        text-align: right;\n",
              "    }\n",
              "</style>\n",
              "<table border=\"1\" class=\"dataframe\">\n",
              "  <thead>\n",
              "    <tr style=\"text-align: right;\">\n",
              "      <th></th>\n",
              "      <th>II</th>\n",
              "      <th>PLETH</th>\n",
              "    </tr>\n",
              "  </thead>\n",
              "  <tbody>\n",
              "    <tr>\n",
              "      <th>0</th>\n",
              "      <td>0.435</td>\n",
              "      <td>0.257</td>\n",
              "    </tr>\n",
              "    <tr>\n",
              "      <th>1</th>\n",
              "      <td>0.435</td>\n",
              "      <td>0.256</td>\n",
              "    </tr>\n",
              "    <tr>\n",
              "      <th>2</th>\n",
              "      <td>0.430</td>\n",
              "      <td>0.255</td>\n",
              "    </tr>\n",
              "    <tr>\n",
              "      <th>3</th>\n",
              "      <td>0.435</td>\n",
              "      <td>0.254</td>\n",
              "    </tr>\n",
              "    <tr>\n",
              "      <th>4</th>\n",
              "      <td>0.435</td>\n",
              "      <td>0.253</td>\n",
              "    </tr>\n",
              "    <tr>\n",
              "      <th>5</th>\n",
              "      <td>0.430</td>\n",
              "      <td>0.254</td>\n",
              "    </tr>\n",
              "    <tr>\n",
              "      <th>6</th>\n",
              "      <td>0.430</td>\n",
              "      <td>0.257</td>\n",
              "    </tr>\n",
              "    <tr>\n",
              "      <th>7</th>\n",
              "      <td>0.440</td>\n",
              "      <td>0.266</td>\n",
              "    </tr>\n",
              "    <tr>\n",
              "      <th>8</th>\n",
              "      <td>0.430</td>\n",
              "      <td>0.283</td>\n",
              "    </tr>\n",
              "    <tr>\n",
              "      <th>9</th>\n",
              "      <td>0.435</td>\n",
              "      <td>0.306</td>\n",
              "    </tr>\n",
              "    <tr>\n",
              "      <th>10</th>\n",
              "      <td>0.435</td>\n",
              "      <td>0.338</td>\n",
              "    </tr>\n",
              "    <tr>\n",
              "      <th>11</th>\n",
              "      <td>0.435</td>\n",
              "      <td>0.378</td>\n",
              "    </tr>\n",
              "    <tr>\n",
              "      <th>12</th>\n",
              "      <td>0.425</td>\n",
              "      <td>0.423</td>\n",
              "    </tr>\n",
              "    <tr>\n",
              "      <th>13</th>\n",
              "      <td>0.445</td>\n",
              "      <td>0.470</td>\n",
              "    </tr>\n",
              "    <tr>\n",
              "      <th>14</th>\n",
              "      <td>0.454</td>\n",
              "      <td>0.512</td>\n",
              "    </tr>\n",
              "    <tr>\n",
              "      <th>15</th>\n",
              "      <td>0.475</td>\n",
              "      <td>0.549</td>\n",
              "    </tr>\n",
              "    <tr>\n",
              "      <th>16</th>\n",
              "      <td>0.490</td>\n",
              "      <td>0.587</td>\n",
              "    </tr>\n",
              "    <tr>\n",
              "      <th>17</th>\n",
              "      <td>0.510</td>\n",
              "      <td>0.624</td>\n",
              "    </tr>\n",
              "    <tr>\n",
              "      <th>18</th>\n",
              "      <td>0.525</td>\n",
              "      <td>0.654</td>\n",
              "    </tr>\n",
              "    <tr>\n",
              "      <th>19</th>\n",
              "      <td>0.546</td>\n",
              "      <td>0.678</td>\n",
              "    </tr>\n",
              "    <tr>\n",
              "      <th>20</th>\n",
              "      <td>0.555</td>\n",
              "      <td>0.696</td>\n",
              "    </tr>\n",
              "    <tr>\n",
              "      <th>21</th>\n",
              "      <td>0.534</td>\n",
              "      <td>0.707</td>\n",
              "    </tr>\n",
              "    <tr>\n",
              "      <th>22</th>\n",
              "      <td>0.505</td>\n",
              "      <td>0.713</td>\n",
              "    </tr>\n",
              "    <tr>\n",
              "      <th>23</th>\n",
              "      <td>0.475</td>\n",
              "      <td>0.714</td>\n",
              "    </tr>\n",
              "    <tr>\n",
              "      <th>24</th>\n",
              "      <td>0.445</td>\n",
              "      <td>0.710</td>\n",
              "    </tr>\n",
              "    <tr>\n",
              "      <th>25</th>\n",
              "      <td>0.425</td>\n",
              "      <td>0.703</td>\n",
              "    </tr>\n",
              "    <tr>\n",
              "      <th>26</th>\n",
              "      <td>0.400</td>\n",
              "      <td>0.695</td>\n",
              "    </tr>\n",
              "    <tr>\n",
              "      <th>27</th>\n",
              "      <td>0.381</td>\n",
              "      <td>0.686</td>\n",
              "    </tr>\n",
              "    <tr>\n",
              "      <th>28</th>\n",
              "      <td>0.369</td>\n",
              "      <td>0.675</td>\n",
              "    </tr>\n",
              "    <tr>\n",
              "      <th>29</th>\n",
              "      <td>0.369</td>\n",
              "      <td>0.664</td>\n",
              "    </tr>\n",
              "    <tr>\n",
              "      <th>...</th>\n",
              "      <td>...</td>\n",
              "      <td>...</td>\n",
              "    </tr>\n",
              "    <tr>\n",
              "      <th>1770</th>\n",
              "      <td>0.376</td>\n",
              "      <td>0.304</td>\n",
              "    </tr>\n",
              "    <tr>\n",
              "      <th>1771</th>\n",
              "      <td>0.381</td>\n",
              "      <td>0.301</td>\n",
              "    </tr>\n",
              "    <tr>\n",
              "      <th>1772</th>\n",
              "      <td>0.376</td>\n",
              "      <td>0.297</td>\n",
              "    </tr>\n",
              "    <tr>\n",
              "      <th>1773</th>\n",
              "      <td>0.395</td>\n",
              "      <td>0.294</td>\n",
              "    </tr>\n",
              "    <tr>\n",
              "      <th>1774</th>\n",
              "      <td>0.400</td>\n",
              "      <td>0.290</td>\n",
              "    </tr>\n",
              "    <tr>\n",
              "      <th>1775</th>\n",
              "      <td>0.415</td>\n",
              "      <td>0.287</td>\n",
              "    </tr>\n",
              "    <tr>\n",
              "      <th>1776</th>\n",
              "      <td>0.420</td>\n",
              "      <td>0.285</td>\n",
              "    </tr>\n",
              "    <tr>\n",
              "      <th>1777</th>\n",
              "      <td>0.435</td>\n",
              "      <td>0.284</td>\n",
              "    </tr>\n",
              "    <tr>\n",
              "      <th>1778</th>\n",
              "      <td>0.440</td>\n",
              "      <td>0.283</td>\n",
              "    </tr>\n",
              "    <tr>\n",
              "      <th>1779</th>\n",
              "      <td>0.445</td>\n",
              "      <td>0.283</td>\n",
              "    </tr>\n",
              "    <tr>\n",
              "      <th>1780</th>\n",
              "      <td>0.454</td>\n",
              "      <td>0.282</td>\n",
              "    </tr>\n",
              "    <tr>\n",
              "      <th>1781</th>\n",
              "      <td>0.461</td>\n",
              "      <td>0.279</td>\n",
              "    </tr>\n",
              "    <tr>\n",
              "      <th>1782</th>\n",
              "      <td>0.470</td>\n",
              "      <td>0.277</td>\n",
              "    </tr>\n",
              "    <tr>\n",
              "      <th>1783</th>\n",
              "      <td>0.470</td>\n",
              "      <td>0.274</td>\n",
              "    </tr>\n",
              "    <tr>\n",
              "      <th>1784</th>\n",
              "      <td>0.475</td>\n",
              "      <td>0.272</td>\n",
              "    </tr>\n",
              "    <tr>\n",
              "      <th>1785</th>\n",
              "      <td>0.485</td>\n",
              "      <td>0.270</td>\n",
              "    </tr>\n",
              "    <tr>\n",
              "      <th>1786</th>\n",
              "      <td>0.490</td>\n",
              "      <td>0.269</td>\n",
              "    </tr>\n",
              "    <tr>\n",
              "      <th>1787</th>\n",
              "      <td>0.485</td>\n",
              "      <td>0.268</td>\n",
              "    </tr>\n",
              "    <tr>\n",
              "      <th>1788</th>\n",
              "      <td>0.490</td>\n",
              "      <td>0.268</td>\n",
              "    </tr>\n",
              "    <tr>\n",
              "      <th>1789</th>\n",
              "      <td>0.480</td>\n",
              "      <td>0.268</td>\n",
              "    </tr>\n",
              "    <tr>\n",
              "      <th>1790</th>\n",
              "      <td>0.480</td>\n",
              "      <td>0.269</td>\n",
              "    </tr>\n",
              "    <tr>\n",
              "      <th>1791</th>\n",
              "      <td>0.480</td>\n",
              "      <td>0.271</td>\n",
              "    </tr>\n",
              "    <tr>\n",
              "      <th>1792</th>\n",
              "      <td>0.470</td>\n",
              "      <td>0.271</td>\n",
              "    </tr>\n",
              "    <tr>\n",
              "      <th>1793</th>\n",
              "      <td>0.470</td>\n",
              "      <td>0.271</td>\n",
              "    </tr>\n",
              "    <tr>\n",
              "      <th>1794</th>\n",
              "      <td>0.466</td>\n",
              "      <td>0.269</td>\n",
              "    </tr>\n",
              "    <tr>\n",
              "      <th>1795</th>\n",
              "      <td>0.461</td>\n",
              "      <td>0.268</td>\n",
              "    </tr>\n",
              "    <tr>\n",
              "      <th>1796</th>\n",
              "      <td>0.466</td>\n",
              "      <td>0.267</td>\n",
              "    </tr>\n",
              "    <tr>\n",
              "      <th>1797</th>\n",
              "      <td>0.454</td>\n",
              "      <td>0.269</td>\n",
              "    </tr>\n",
              "    <tr>\n",
              "      <th>1798</th>\n",
              "      <td>0.454</td>\n",
              "      <td>0.276</td>\n",
              "    </tr>\n",
              "    <tr>\n",
              "      <th>1799</th>\n",
              "      <td>0.454</td>\n",
              "      <td>0.290</td>\n",
              "    </tr>\n",
              "  </tbody>\n",
              "</table>\n",
              "<p>1800 rows × 2 columns</p>\n",
              "</div>"
            ],
            "text/plain": [
              "         II  PLETH\n",
              "0     0.435  0.257\n",
              "1     0.435  0.256\n",
              "2     0.430  0.255\n",
              "3     0.435  0.254\n",
              "4     0.435  0.253\n",
              "5     0.430  0.254\n",
              "6     0.430  0.257\n",
              "7     0.440  0.266\n",
              "8     0.430  0.283\n",
              "9     0.435  0.306\n",
              "10    0.435  0.338\n",
              "11    0.435  0.378\n",
              "12    0.425  0.423\n",
              "13    0.445  0.470\n",
              "14    0.454  0.512\n",
              "15    0.475  0.549\n",
              "16    0.490  0.587\n",
              "17    0.510  0.624\n",
              "18    0.525  0.654\n",
              "19    0.546  0.678\n",
              "20    0.555  0.696\n",
              "21    0.534  0.707\n",
              "22    0.505  0.713\n",
              "23    0.475  0.714\n",
              "24    0.445  0.710\n",
              "25    0.425  0.703\n",
              "26    0.400  0.695\n",
              "27    0.381  0.686\n",
              "28    0.369  0.675\n",
              "29    0.369  0.664\n",
              "...     ...    ...\n",
              "1770  0.376  0.304\n",
              "1771  0.381  0.301\n",
              "1772  0.376  0.297\n",
              "1773  0.395  0.294\n",
              "1774  0.400  0.290\n",
              "1775  0.415  0.287\n",
              "1776  0.420  0.285\n",
              "1777  0.435  0.284\n",
              "1778  0.440  0.283\n",
              "1779  0.445  0.283\n",
              "1780  0.454  0.282\n",
              "1781  0.461  0.279\n",
              "1782  0.470  0.277\n",
              "1783  0.470  0.274\n",
              "1784  0.475  0.272\n",
              "1785  0.485  0.270\n",
              "1786  0.490  0.269\n",
              "1787  0.485  0.268\n",
              "1788  0.490  0.268\n",
              "1789  0.480  0.268\n",
              "1790  0.480  0.269\n",
              "1791  0.480  0.271\n",
              "1792  0.470  0.271\n",
              "1793  0.470  0.271\n",
              "1794  0.466  0.269\n",
              "1795  0.461  0.268\n",
              "1796  0.466  0.267\n",
              "1797  0.454  0.269\n",
              "1798  0.454  0.276\n",
              "1799  0.454  0.290\n",
              "\n",
              "[1800 rows x 2 columns]"
            ]
          },
          "metadata": {
            "tags": []
          },
          "execution_count": 29
        }
      ]
    },
    {
      "cell_type": "code",
      "metadata": {
        "id": "G28gbq-euscn",
        "outputId": "e86cdac0-326f-4301-fb4d-51af07e3474d"
      },
      "source": [
        "len(dfpvc)"
      ],
      "execution_count": null,
      "outputs": [
        {
          "output_type": "execute_result",
          "data": {
            "text/plain": [
              "1800"
            ]
          },
          "metadata": {
            "tags": []
          },
          "execution_count": 30
        }
      ]
    },
    {
      "cell_type": "code",
      "metadata": {
        "id": "syf41OyHusco",
        "outputId": "5f94849c-ad42-4154-e238-47f87c75b569"
      },
      "source": [
        "import scipy.signal\n",
        "peakspvc,_ = scipy.signal.find_peaks(dfpvc['PLETH'], distance=100)\n",
        "peakspvc"
      ],
      "execution_count": null,
      "outputs": [
        {
          "output_type": "execute_result",
          "data": {
            "text/plain": [
              "array([  23,  217,  411,  606,  799, 1090, 1220, 1320, 1517, 1714],\n",
              "      dtype=int64)"
            ]
          },
          "metadata": {
            "tags": []
          },
          "execution_count": 31
        }
      ]
    },
    {
      "cell_type": "code",
      "metadata": {
        "id": "UIvbNlCtusco",
        "outputId": "c5b3f9bc-2073-4fc9-e8a9-fc918e474bb1"
      },
      "source": [
        "peaksnidxpvc = dfpvc['PLETH'][peakspvc]\n",
        "print(peaksnidxpvc)"
      ],
      "execution_count": null,
      "outputs": [
        {
          "output_type": "stream",
          "text": [
            "23      0.714\n",
            "217     0.749\n",
            "411     0.720\n",
            "606     0.755\n",
            "799     0.717\n",
            "1090    0.742\n",
            "1220    0.761\n",
            "1320    0.742\n",
            "1517    0.733\n",
            "1714    0.756\n",
            "Name: PLETH, dtype: float64\n"
          ],
          "name": "stdout"
        }
      ]
    },
    {
      "cell_type": "code",
      "metadata": {
        "id": "895t2WJAusco",
        "outputId": "d9c5c28a-7254-44aa-df2b-be642974b058"
      },
      "source": [
        "import matplotlib.pyplot as plt\n",
        "import matplotlib.lines as mlines\n",
        "peakslabel = mlines.Line2D([], [], color='green', linestyle=' ', marker='o', label='R Accepted')\n",
        "plt.figure(figsize=(10, 5))\n",
        "plt.legend(handles=[peakslabel])\n",
        "plt.plot(dfpvc['PLETH'])\n",
        "plt.plot(peaksnidxpvc, 'o', color='green')"
      ],
      "execution_count": null,
      "outputs": [
        {
          "output_type": "execute_result",
          "data": {
            "text/plain": [
              "[<matplotlib.lines.Line2D at 0x2a70a6e00f0>]"
            ]
          },
          "metadata": {
            "tags": []
          },
          "execution_count": 33
        },
        {
          "output_type": "display_data",
          "data": {
            "image/png": "[encoded data removed]",
            "text/plain": [
              "<Figure size 720x360 with 1 Axes>"
            ]
          },
          "metadata": {
            "tags": [],
            "needs_background": "light"
          }
        }
      ]
    },
    {
      "cell_type": "code",
      "metadata": {
        "id": "TKrsqaOIusco"
      },
      "source": [
        "datapvc = []\n",
        "for i in range(0,9):\n",
        "  rowpvc=[]\n",
        "  for j in range(0,200):\n",
        "    data = dfpvc['PLETH'][(i*200)+j]\n",
        "    rowpvc.append(data)\n",
        "  datapvc.append(rowpvc)\n",
        "\n",
        "# print(datapvc)"
      ],
      "execution_count": null,
      "outputs": []
    },
    {
      "cell_type": "code",
      "metadata": {
        "id": "kbYrDgVOuscp"
      },
      "source": [
        "import pywt\n",
        "import numpy as np\n",
        "import statistics\n",
        "# import csv, io\n",
        "import Createdataset as c\n",
        "import soft\n",
        "import bwr\n",
        "from sklearn.decomposition import PCA"
      ],
      "execution_count": null,
      "outputs": []
    },
    {
      "cell_type": "code",
      "metadata": {
        "id": "3hv3OJuquscp"
      },
      "source": [
        "data_sample_pvc = []\n",
        "baseline_pvc = []\n",
        "ppg_out_pvc = []\n",
        "for i in range(0,9):\n",
        "    sinyal = soft.waveletSmooth(datapvc[i])\n",
        "    (baseline, ppg_out) = bwr.bwr(sinyal)\n",
        "    len_sample = len(datapvc[i])\n",
        "\n",
        "    sampled_window = len_sample\n",
        "    sample = []\n",
        "    for j in range(sampled_window):\n",
        "        sample.append(ppg_out[j - 1])\n",
        "    data_sample_pvc.append(sample)\n",
        "    baseline_pvc.append(baseline)\n",
        "    ppg_out_pvc.append(ppg_out)\n",
        "\n",
        "# print(data_sample_pvc)"
      ],
      "execution_count": null,
      "outputs": []
    },
    {
      "cell_type": "code",
      "metadata": {
        "id": "rCsJURVmuscp",
        "outputId": "d7ea5cb6-12f2-4fcc-b026-1d2bc57bbc12"
      },
      "source": [
        "r_peaks_pvc = []\n",
        "list_upper_pvc = []\n",
        "for h in range(0,len(data_sample_pvc)):\n",
        "  m = np.max(data_sample_pvc[h])\n",
        "  R = 0.2 * m\n",
        "  list_upper = []\n",
        "  r_peaks = []\n",
        "  for i in range(len(data_sample_pvc[h])-1):\n",
        "    if (data_sample_pvc[h][i] > R):\n",
        "      list_upper.append(data_sample_pvc[h][i])\n",
        "      if (data_sample_pvc[h][i + 1] < R):\n",
        "          r_peak = np.max(list_upper)\n",
        "          r_in = data_sample_pvc[h].index(r_peak)\n",
        "          r_peaks.append([r_in, r_peak])\n",
        "          list_upper = []\n",
        "\n",
        "  r_peaks_pvc.append(r_peaks)\n",
        "\n",
        "print(r_peaks_pvc)"
      ],
      "execution_count": null,
      "outputs": [
        {
          "output_type": "stream",
          "text": [
            "[[[0, 0.185158201186156], [24, 0.29876164255290816], [121, 0.27035714246397585]], [[0, 0.27508716441193315], [18, 0.28046779502191066], [113, 0.3352627826673301]], [[0, 0.37911625003019656], [13, 0.29721158335675246], [110, 0.35725379132968255]], [[0, 0.45724226130835255], [103, 0.37751800745625386]], [[0, 0.4304848993714781], [97, 0.3594736360261035]], [[1, 0.2357757986427796], [92, 0.4103165825126923], [151, 0.19224523721421366]], [[0, 0.18205476055537034], [22, 0.3074873933960066], [121, 0.2780249094849083]], [[0, 0.1805741822702119], [21, 0.2868899050935498], [117, 0.28951108615317106]], [[0, 0.20823816196695344], [17, 0.2801607910106243], [114, 0.3376211474539773]]]\n"
          ],
          "name": "stdout"
        }
      ]
    },
    {
      "cell_type": "code",
      "metadata": {
        "id": "NQGW0zDruscq",
        "outputId": "a4f9ede8-fa4f-49a2-f581-9e4eabbc9347"
      },
      "source": [
        "r_intervals_pvc = []\n",
        "for h in range(0,len(r_peaks_pvc)):\n",
        "  r_intervals = []\n",
        "  for i in range(len(r_peaks_pvc[h]) - 1):\n",
        "    r1 = r_peaks_pvc[h][i][0]\n",
        "    r2 = r_peaks_pvc[h][i + 1][0]\n",
        "    rr = r2 - r1\n",
        "    r_intervals.append(rr)\n",
        "\n",
        "  r_intervals_pvc.append(r_intervals)\n",
        "\n",
        "print(r_intervals_pvc)"
      ],
      "execution_count": null,
      "outputs": [
        {
          "output_type": "stream",
          "text": [
            "[[24, 97], [18, 95], [13, 97], [103], [97], [91, 59], [22, 99], [21, 96], [17, 97]]\n"
          ],
          "name": "stdout"
        }
      ]
    },
    {
      "cell_type": "code",
      "metadata": {
        "id": "8DARCa9Buscq",
        "outputId": "5add8ac9-b8b3-4c7f-880c-b74f92e7ef30"
      },
      "source": [
        "ca_pvc = []\n",
        "for i in range(0,len(ppg_out_pvc)):\n",
        "  nlevelmax = pywt.dwt_max_level(len(ppg_out_pvc[i]), 'sym3')\n",
        "  coeff = pywt.wavedec(ppg_out_pvc[i], 'sym3', level=6)\n",
        "  ca_pvc.append(coeff[0])\n",
        "\n",
        "print(ca_pvc)"
      ],
      "execution_count": null,
      "outputs": [
        {
          "output_type": "stream",
          "text": [
            "[array([-1.31415711, -1.39280186, -1.5918615 , -0.39213467,  0.20855765,\n",
            "       -0.1552697 ,  0.71097797,  1.74299131]), array([-1.46784797, -1.50694764, -1.87838899, -0.33460917,  0.05105638,\n",
            "       -0.04913987,  0.82566548,  2.11947201]), array([ 0.24820034,  0.24371809, -0.03602616,  0.94172983, -0.09286364,\n",
            "        0.46379744,  1.08523208,  2.49740416]), array([ 1.99588709,  2.00310957,  1.95220163,  1.92709303, -0.02395996,\n",
            "        0.22263759,  1.66443761,  3.91046952]), array([ 2.44061239,  2.44683741,  2.52434498,  1.97935693,  0.17550179,\n",
            "       -0.12994517,  1.981249  ,  4.22380286]), array([1.74517315, 1.74942486, 1.84815222, 1.21099772, 0.34051802,\n",
            "       1.20207656, 0.7565158 , 0.68688975]), array([-1.56593034, -1.64000728, -1.91566913, -0.48071387,  0.20217571,\n",
            "       -0.1426589 ,  0.68885893,  1.72325781]), array([-1.47012896, -1.52911221, -1.83188507, -0.41941872,  0.13347437,\n",
            "       -0.10431169,  0.70248841,  1.71975989]), array([-1.31124341, -1.34538025, -1.71068239, -0.24891214,  0.01925946,\n",
            "       -0.01511189,  0.72061033,  1.84839878])]\n"
          ],
          "name": "stdout"
        },
        {
          "output_type": "stream",
          "text": [
            "C:\\Users\\Asus\\Anaconda3\\lib\\site-packages\\pywt\\_multilevel.py:45: UserWarning: Level value of 6 is too high: all coefficients will experience boundary effects.\n",
            "  \"boundary effects.\").format(level))\n"
          ],
          "name": "stderr"
        }
      ]
    },
    {
      "cell_type": "code",
      "metadata": {
        "id": "sRraSTxIuscq"
      },
      "source": [
        "hasil_pvc = []\n",
        "for i in range(0,len(ca_pvc)):\n",
        "  (min, max, mean, med, std) = c.Createdataset(ca_pvc[i])\n",
        "  hasil = [min, max, mean, med, std, \"PVC\"]\n",
        "  hasil_pvc.append(hasil)"
      ],
      "execution_count": null,
      "outputs": []
    },
    {
      "cell_type": "code",
      "metadata": {
        "scrolled": true,
        "id": "NAvOJSyOuscq",
        "outputId": "91fe20dd-a3c4-4a73-be8c-d90748befa17"
      },
      "source": [
        "result_pvc = pd.DataFrame(hasil_pvc, columns = ['min','max','mean','med','std','label'])\n",
        "result_pvc"
      ],
      "execution_count": null,
      "outputs": [
        {
          "output_type": "execute_result",
          "data": {
            "text/html": [
              "<div>\n",
              "<style scoped>\n",
              "    .dataframe tbody tr th:only-of-type {\n",
              "        vertical-align: middle;\n",
              "    }\n",
              "\n",
              "    .dataframe tbody tr th {\n",
              "        vertical-align: top;\n",
              "    }\n",
              "\n",
              "    .dataframe thead th {\n",
              "        text-align: right;\n",
              "    }\n",
              "</style>\n",
              "<table border=\"1\" class=\"dataframe\">\n",
              "  <thead>\n",
              "    <tr style=\"text-align: right;\">\n",
              "      <th></th>\n",
              "      <th>min</th>\n",
              "      <th>max</th>\n",
              "      <th>mean</th>\n",
              "      <th>med</th>\n",
              "      <th>std</th>\n",
              "      <th>label</th>\n",
              "    </tr>\n",
              "  </thead>\n",
              "  <tbody>\n",
              "    <tr>\n",
              "      <th>0</th>\n",
              "      <td>-2.788173</td>\n",
              "      <td>4.410865</td>\n",
              "      <td>1.415018</td>\n",
              "      <td>2.658240</td>\n",
              "      <td>3.311823</td>\n",
              "      <td>PVC</td>\n",
              "    </tr>\n",
              "    <tr>\n",
              "      <th>1</th>\n",
              "      <td>-3.726648</td>\n",
              "      <td>2.613808</td>\n",
              "      <td>-2.109423</td>\n",
              "      <td>-3.272630</td>\n",
              "      <td>2.405648</td>\n",
              "      <td>PVC</td>\n",
              "    </tr>\n",
              "    <tr>\n",
              "      <th>2</th>\n",
              "      <td>-1.704572</td>\n",
              "      <td>5.664849</td>\n",
              "      <td>0.897159</td>\n",
              "      <td>0.171735</td>\n",
              "      <td>2.662093</td>\n",
              "      <td>PVC</td>\n",
              "    </tr>\n",
              "    <tr>\n",
              "      <th>3</th>\n",
              "      <td>-2.349414</td>\n",
              "      <td>4.508151</td>\n",
              "      <td>1.527345</td>\n",
              "      <td>2.676652</td>\n",
              "      <td>3.198742</td>\n",
              "      <td>PVC</td>\n",
              "    </tr>\n",
              "    <tr>\n",
              "      <th>4</th>\n",
              "      <td>-2.166665</td>\n",
              "      <td>0.134389</td>\n",
              "      <td>-1.369719</td>\n",
              "      <td>-1.725359</td>\n",
              "      <td>0.895773</td>\n",
              "      <td>PVC</td>\n",
              "    </tr>\n",
              "    <tr>\n",
              "      <th>5</th>\n",
              "      <td>-4.099490</td>\n",
              "      <td>1.465312</td>\n",
              "      <td>-2.550504</td>\n",
              "      <td>-3.371656</td>\n",
              "      <td>2.002869</td>\n",
              "      <td>PVC</td>\n",
              "    </tr>\n",
              "    <tr>\n",
              "      <th>6</th>\n",
              "      <td>-3.627363</td>\n",
              "      <td>3.569743</td>\n",
              "      <td>-1.310791</td>\n",
              "      <td>-3.260244</td>\n",
              "      <td>2.953026</td>\n",
              "      <td>PVC</td>\n",
              "    </tr>\n",
              "    <tr>\n",
              "      <th>7</th>\n",
              "      <td>-2.837763</td>\n",
              "      <td>6.474359</td>\n",
              "      <td>2.002781</td>\n",
              "      <td>2.374562</td>\n",
              "      <td>2.748522</td>\n",
              "      <td>PVC</td>\n",
              "    </tr>\n",
              "    <tr>\n",
              "      <th>8</th>\n",
              "      <td>-2.046246</td>\n",
              "      <td>1.763602</td>\n",
              "      <td>0.244753</td>\n",
              "      <td>0.627500</td>\n",
              "      <td>1.334977</td>\n",
              "      <td>PVC</td>\n",
              "    </tr>\n",
              "  </tbody>\n",
              "</table>\n",
              "</div>"
            ],
            "text/plain": [
              "        min       max      mean       med       std label\n",
              "0 -2.788173  4.410865  1.415018  2.658240  3.311823   PVC\n",
              "1 -3.726648  2.613808 -2.109423 -3.272630  2.405648   PVC\n",
              "2 -1.704572  5.664849  0.897159  0.171735  2.662093   PVC\n",
              "3 -2.349414  4.508151  1.527345  2.676652  3.198742   PVC\n",
              "4 -2.166665  0.134389 -1.369719 -1.725359  0.895773   PVC\n",
              "5 -4.099490  1.465312 -2.550504 -3.371656  2.002869   PVC\n",
              "6 -3.627363  3.569743 -1.310791 -3.260244  2.953026   PVC\n",
              "7 -2.837763  6.474359  2.002781  2.374562  2.748522   PVC\n",
              "8 -2.046246  1.763602  0.244753  0.627500  1.334977   PVC"
            ]
          },
          "metadata": {
            "tags": []
          },
          "execution_count": 248
        }
      ]
    },
    {
      "cell_type": "code",
      "metadata": {
        "id": "YFEG-9f-uscr"
      },
      "source": [
        "dfready = pd.concat([result_n, result_pvc]).reset_index(drop=True)\n",
        "dfready.to_csv('/content/drive/MyDrive/DATABASE/model/datareadyPVC1.csv')"
      ],
      "execution_count": null,
      "outputs": []
    },
    {
      "cell_type": "markdown",
      "metadata": {
        "id": "-KfKGrJT7hJR"
      },
      "source": [
        "# DWT \n",
        "\n"
      ]
    },
    {
      "cell_type": "markdown",
      "metadata": {
        "id": "YhvVSQ5o_sEo"
      },
      "source": [
        "## Wavelet Extraction"
      ]
    },
    {
      "cell_type": "code",
      "metadata": {
        "id": "JgmxEP8eDj3K",
        "colab": {
          "base_uri": "https://localhost:8080/",
          "height": 223
        },
        "outputId": "b560c06e-8cc5-4d9b-922a-5604d64754d3"
      },
      "source": [
        "import numpy as np\n",
        "import statistics\n",
        "import pywt\n",
        "import csv\n",
        "from scipy.stats import kurtosis\n",
        "\n",
        "# Reading file and saving it in a variable, suppose x;\n",
        "x = np.array([])\n",
        "y = np.array([])\n",
        "filename = '/content/drive/MyDrive/DATABASE/211.csv' #file imput \n",
        "with open(filename) as csvfile:\n",
        "    f_read = csv.reader(csvfile, delimiter = ',')\n",
        "    for row in f_read:\n",
        "        #x = np.append(x, [float(j) for j in row])\n",
        "        x.append(float(row[0]))\n",
        "        #y.append(float(row[2]))\n",
        "        if row[2][:1] == '-' :\n",
        "            if row[2][1:len(row[2])] == '' :\n",
        "                #print(float(row[0]),'error')\n",
        "                y.append(0)\n",
        "            else :\n",
        "                curr = float(row[2][1:len(row[2])])\n",
        "                curr = float(-curr)\n",
        "                #print(curr)\n",
        "                y.append(curr)\n",
        "        else :\n",
        "            y.append(float(row[2]))\n",
        "            #print('test')\n",
        "\n",
        "[a, d1, d2, d3, d4] = pywt.wavedec(y, 'haar', level=4)\n",
        "\n",
        "def comp_moment(feature):\n",
        "    step = int(len(feature)/2)\n",
        "    avg_temp = np.zeros([2])\n",
        "    stn_dev_temp = np.zeros([2])\n",
        "    kurto_temp = np.zeros([2])\n",
        "    for i in range(int(len(feature)/step)):\n",
        "        avg_temp[i] = np.mean(feature[step*i:step*(i+1)])\n",
        "        stn_dev_temp[i] = statistics.stdev(feature[step*i:step*(i+1)])\n",
        "        kurto_temp[i] = kurtosis(feature[step*i:step*(i+1)])\n",
        "        return (avg_temp, stn_dev_temp, kurto_temp)\n",
        "\n",
        "\n",
        "    #Approximation coeficient\n",
        "    avg_temp, stn_dev_temp, kurto_temp = comp_moment(a)\n",
        "    avg = avg_temp\n",
        "    stn_dev = stn_dev_temp\n",
        "    kurto = kurto_temp\n",
        "\n",
        "    # d1 coffiecient\n",
        "    avg_temp, stn_dev_temp, kurto_temp = comp_moment(d1)\n",
        "    avg = np.append(avg, avg_temp)\n",
        "    stn_dev = np.append(stn_dev, stn_dev_temp)\n",
        "    kurto = np.append(kurto, kurto_temp)\n",
        "\n",
        "    # d2 coffiecient\n",
        "    avg_temp, stn_dev_temp, kurto_temp = comp_moment(d2)\n",
        "    avg = np.append(avg, avg_temp)\n",
        "    stn_dev = np.append(stn_dev, stn_dev_temp)\n",
        "    kurto = np.append(kurto, kurto_temp)\n",
        "\n",
        "    # d3 coffiecient\n",
        "    avg_temp, stn_dev_temp, kurto_temp = comp_moment(d3)\n",
        "    avg = np.append(avg, avg_temp)\n",
        "    stn_dev = np.append(stn_dev, stn_dev_temp)\n",
        "    kurto = np.append(kurto, kurto_temp)\n",
        "\n",
        "    # d4 coffiecient\n",
        "    avg_temp, stn_dev_temp, kurto_temp = comp_moment(d4)\n",
        "    avg = np.append(avg, avg_temp)\n",
        "    stn_dev = np.append(stn_dev, stn_dev_temp)\n",
        "    kurto = np.append(kurto, kurto_temp)\n",
        "\n",
        "    feature_dwt = np.append(np.append(avg, stn_dev), kurto)"
      ],
      "execution_count": null,
      "outputs": [
        {
          "output_type": "error",
          "ename": "AttributeError",
          "evalue": "ignored",
          "traceback": [
            "\u001b[0;31m---------------------------------------------------------------------------\u001b[0m",
            "\u001b[0;31mAttributeError\u001b[0m                            Traceback (most recent call last)",
            "\u001b[0;32m<ipython-input-188-17df6020597d>\u001b[0m in \u001b[0;36m<module>\u001b[0;34m()\u001b[0m\n\u001b[1;32m     13\u001b[0m     \u001b[0;32mfor\u001b[0m \u001b[0mrow\u001b[0m \u001b[0;32min\u001b[0m \u001b[0mf_read\u001b[0m\u001b[0;34m:\u001b[0m\u001b[0;34m\u001b[0m\u001b[0;34m\u001b[0m\u001b[0m\n\u001b[1;32m     14\u001b[0m         \u001b[0;31m#x = np.append(x, [float(j) for j in row])\u001b[0m\u001b[0;34m\u001b[0m\u001b[0;34m\u001b[0m\u001b[0;34m\u001b[0m\u001b[0m\n\u001b[0;32m---> 15\u001b[0;31m         \u001b[0mx\u001b[0m\u001b[0;34m.\u001b[0m\u001b[0mappend\u001b[0m\u001b[0;34m(\u001b[0m\u001b[0mfloat\u001b[0m\u001b[0;34m(\u001b[0m\u001b[0mrow\u001b[0m\u001b[0;34m[\u001b[0m\u001b[0;36m0\u001b[0m\u001b[0;34m]\u001b[0m\u001b[0;34m)\u001b[0m\u001b[0;34m)\u001b[0m\u001b[0;34m\u001b[0m\u001b[0;34m\u001b[0m\u001b[0m\n\u001b[0m\u001b[1;32m     16\u001b[0m         \u001b[0;31m#y.append(float(row[2]))\u001b[0m\u001b[0;34m\u001b[0m\u001b[0;34m\u001b[0m\u001b[0;34m\u001b[0m\u001b[0m\n\u001b[1;32m     17\u001b[0m         \u001b[0;32mif\u001b[0m \u001b[0mrow\u001b[0m\u001b[0;34m[\u001b[0m\u001b[0;36m2\u001b[0m\u001b[0;34m]\u001b[0m\u001b[0;34m[\u001b[0m\u001b[0;34m:\u001b[0m\u001b[0;36m1\u001b[0m\u001b[0;34m]\u001b[0m \u001b[0;34m==\u001b[0m \u001b[0;34m'-'\u001b[0m \u001b[0;34m:\u001b[0m\u001b[0;34m\u001b[0m\u001b[0;34m\u001b[0m\u001b[0m\n",
            "\u001b[0;31mAttributeError\u001b[0m: 'numpy.ndarray' object has no attribute 'append'"
          ]
        }
      ]
    },
    {
      "cell_type": "code",
      "metadata": {
        "id": "JLyWBfukIoZQ",
        "colab": {
          "base_uri": "https://localhost:8080/",
          "height": 223
        },
        "outputId": "93cd635f-06d9-4960-9080-b94b9003b4c0"
      },
      "source": [
        "  import matplotlib.pyplot as plt\n",
        "import csv\n",
        "\n",
        "x = []\n",
        "y = []\n",
        "\n",
        "with open('211.csv','r') as csvfile:\n",
        "    plots = csv.reader(csvfile, delimiter=',')\n",
        "    for row in plots:\n",
        "        x.append(int(row[0]))\n",
        "        y.append(int(row[1]))\n",
        "\n",
        "#plt.plot(x,y, label='Loaded from file!')\n",
        "#plt.xlabel('x')\n",
        "#plt.ylabel('y')\n",
        "#plt.title('Interesting Graph\\nCheck it out')\n",
        "#plt.legend()\n",
        "#plt.show()"
      ],
      "execution_count": null,
      "outputs": [
        {
          "output_type": "error",
          "ename": "FileNotFoundError",
          "evalue": "ignored",
          "traceback": [
            "\u001b[0;31m---------------------------------------------------------------------------\u001b[0m",
            "\u001b[0;31mFileNotFoundError\u001b[0m                         Traceback (most recent call last)",
            "\u001b[0;32m<ipython-input-189-12476b79accb>\u001b[0m in \u001b[0;36m<module>\u001b[0;34m()\u001b[0m\n\u001b[1;32m      5\u001b[0m \u001b[0my\u001b[0m \u001b[0;34m=\u001b[0m \u001b[0;34m[\u001b[0m\u001b[0;34m]\u001b[0m\u001b[0;34m\u001b[0m\u001b[0;34m\u001b[0m\u001b[0m\n\u001b[1;32m      6\u001b[0m \u001b[0;34m\u001b[0m\u001b[0m\n\u001b[0;32m----> 7\u001b[0;31m \u001b[0;32mwith\u001b[0m \u001b[0mopen\u001b[0m\u001b[0;34m(\u001b[0m\u001b[0;34m'211.csv'\u001b[0m\u001b[0;34m,\u001b[0m\u001b[0;34m'r'\u001b[0m\u001b[0;34m)\u001b[0m \u001b[0;32mas\u001b[0m \u001b[0mcsvfile\u001b[0m\u001b[0;34m:\u001b[0m\u001b[0;34m\u001b[0m\u001b[0;34m\u001b[0m\u001b[0m\n\u001b[0m\u001b[1;32m      8\u001b[0m   \u001b[0mplots\u001b[0m \u001b[0;34m=\u001b[0m \u001b[0mcsv\u001b[0m\u001b[0;34m.\u001b[0m\u001b[0mreader\u001b[0m\u001b[0;34m(\u001b[0m\u001b[0mcsvfile\u001b[0m\u001b[0;34m,\u001b[0m \u001b[0mdelimiter\u001b[0m\u001b[0;34m=\u001b[0m\u001b[0;34m','\u001b[0m\u001b[0;34m)\u001b[0m\u001b[0;34m\u001b[0m\u001b[0;34m\u001b[0m\u001b[0m\n\u001b[1;32m      9\u001b[0m   \u001b[0;32mfor\u001b[0m \u001b[0mrow\u001b[0m \u001b[0;32min\u001b[0m \u001b[0mplots\u001b[0m\u001b[0;34m:\u001b[0m\u001b[0;34m\u001b[0m\u001b[0;34m\u001b[0m\u001b[0m\n",
            "\u001b[0;31mFileNotFoundError\u001b[0m: [Errno 2] No such file or directory: '211.csv'"
          ]
        }
      ]
    },
    {
      "cell_type": "code",
      "metadata": {
        "id": "eHlusluMyr5o"
      },
      "source": [
        "#from scipy.signal import argrelmax, argrelmin\n",
        "import numpy as np \n",
        "from libraries import *\n",
        "import os\n",
        "from time import time\n",
        "\n",
        "\"\"\"\n",
        "Import classifier\n",
        "\"\"\"\n",
        "skenario = \"fitur_skenario_3/\"\n",
        "nama_fitur = \"gabungan\"\n",
        "\n",
        "fitur_path = skenario+nama_fitur\n",
        "lokasi_model = \"model_skenario/\"+skenario\n",
        "\n",
        "import pickle\n",
        "clf = pickle.load(open(lokasi_model+\"/KNN_7_\"+nama_fitur+\".sav\",\"rb\"))\n",
        "\"\"\"\n",
        "Generate Features and Classes\n",
        "\"\"\"\n",
        "hasil = []\n",
        "for filename in os.listdir(fitur_path):\n",
        "    if (\".csv\" in filename):\n",
        "        start = time()\n",
        "        nomor = filename.replace(\".csv\",\"\")\n",
        "        print(nomor)\n",
        "        try:\n",
        "            feature_list, class_list = read_feature_from_csv(fitur_path+\"/%s.csv\" % nomor)\n",
        "            pred = clf.predict(feature_list)\n",
        "            hasil.append(generate_confusion_matrix(nomor,class_list,pred,smoothing=False))\n",
        "        except Exception as e:\n",
        "            print(\"failed\",e)\n",
        "            print(time() - start, \"second\")\n",
        "\n",
        "\"\"\"\n",
        "Export Result to CSV\n",
        "\"\"\"\n",
        "columns_list = [\"Sample_Data\", \"Normal\",\"PAC\",\"PVC\",\"pred_Normal\", \"pred_PAC\",\"pred_PVC\",\"True_Positive_PAC\",\"False_Positive_PAC\",\"True_Negative_PAC\",\"False_Negative_PAC\",\"Accuracy_PAC\",\"Spesifisity_PAC\",\"sn_PAC\",\"True_Positive_PVC\", \"False_Positive_PVC\", \"True_Negative_PVC\", \"False_Negative_PVC\",\"Accuracy_PVC\",\"Spesifisity_PVC\",\"sn_PVC\"]\n",
        "pd.DataFrame(hasil,columns=columns_list).to_csv(\"hasil_skenario/\"+fitur_path+\"/confusion_matrix_fitur_\"+nama_fitur+\".csv\",index=False)\n",
        "\n",
        "data = pd.DataFrame(hasil)"
      ],
      "execution_count": null,
      "outputs": []
    }
  ]
}